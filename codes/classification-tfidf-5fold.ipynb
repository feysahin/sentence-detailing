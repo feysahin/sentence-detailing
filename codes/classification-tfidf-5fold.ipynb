{
 "cells": [
  {
   "cell_type": "code",
   "execution_count": 1,
   "metadata": {
    "execution": {
     "iopub.execute_input": "2022-12-20T17:36:14.159283Z",
     "iopub.status.busy": "2022-12-20T17:36:14.158469Z",
     "iopub.status.idle": "2022-12-20T17:36:22.911421Z",
     "shell.execute_reply": "2022-12-20T17:36:22.910091Z"
    },
    "papermill": {
     "duration": 8.763501,
     "end_time": "2022-12-20T17:36:22.914349",
     "exception": false,
     "start_time": "2022-12-20T17:36:14.150848",
     "status": "completed"
    },
    "tags": []
   },
   "outputs": [],
   "source": [
    "import json\n",
    "import csv\n",
    "import pandas as pd\n",
    "import numpy as np\n",
    "import os\n",
    "\n",
    "from sklearn.preprocessing import MinMaxScaler, StandardScaler, LabelEncoder\n",
    "import itertools\n",
    "import string\n",
    "from nltk.corpus import stopwords\n",
    "from sklearn.utils import resample\n",
    "import gensim\n",
    "from sklearn import preprocessing\n",
    "from sklearn.model_selection import KFold\n",
    "import seaborn as sns\n",
    "import matplotlib.pyplot as plt\n",
    "%matplotlib inline\n",
    "import copy\n",
    "\n",
    "from sklearn.model_selection import train_test_split\n",
    "from sklearn.feature_extraction.text import TfidfVectorizer, CountVectorizer, TfidfTransformer\n",
    "\n",
    "from sklearn.metrics import plot_confusion_matrix, confusion_matrix, classification_report, accuracy_score, precision_score, recall_score, f1_score\n",
    "\n",
    "from sklearn.pipeline import Pipeline, make_pipeline\n",
    "from sklearn.svm import LinearSVC\n",
    "from sklearn.linear_model import LogisticRegression\n",
    "from sklearn.ensemble import RandomForestClassifier\n",
    "from sklearn.naive_bayes import MultinomialNB\n",
    "\n",
    "from trtokenizer.tr_tokenizer import SentenceTokenizer, WordTokenizer\n",
    "word_tokenizer_object = WordTokenizer()\n",
    "\n",
    "import warnings\n",
    "warnings.filterwarnings('ignore')"
   ]
  },
  {
   "cell_type": "code",
   "execution_count": 2,
   "metadata": {},
   "outputs": [],
   "source": [
    "def clean_text(text):\n",
    "    \n",
    "    text = str(text).lower()   \n",
    "    text = text.translate(str.maketrans('', '', string.punctuation)) # !\"#$%&'()*+, -./:;<=>?@[\\]^_`{|}~\n",
    "    words = word_tokenizer_object.tokenize(text)\n",
    "    stopWords = set(stopwords.words('turkish'))\n",
    "    new_text = ' '.join(word for word in words if word not in stopWords)\n",
    "\n",
    "    return new_text"
   ]
  },
  {
   "cell_type": "code",
   "execution_count": 3,
   "metadata": {
    "execution": {
     "iopub.execute_input": "2022-12-20T17:36:22.925821Z",
     "iopub.status.busy": "2022-12-20T17:36:22.925121Z",
     "iopub.status.idle": "2022-12-20T17:36:24.363268Z",
     "shell.execute_reply": "2022-12-20T17:36:24.362300Z"
    },
    "papermill": {
     "duration": 1.446753,
     "end_time": "2022-12-20T17:36:24.366128",
     "exception": false,
     "start_time": "2022-12-20T17:36:22.919375",
     "status": "completed"
    },
    "tags": []
   },
   "outputs": [],
   "source": [
    "test = pd.read_csv('test_10_topic.csv', sep='\\t')\n",
    "df_1000 = pd.read_csv('df_1000.csv', sep='\\t')\n",
    "df_hel = pd.read_csv('df_1000_helsinki.csv', sep='\\t')\n",
    "df_det = pd.read_csv('df_1000_detailed.csv', sep='\\t')\n",
    "df_2000 = pd.concat([df_1000, df_1000])"
   ]
  },
  {
   "cell_type": "code",
   "execution_count": 4,
   "metadata": {},
   "outputs": [
    {
     "data": {
      "text/plain": [
       "\"İtalya'da yeniden erken seçim gündemde\""
      ]
     },
     "execution_count": 4,
     "metadata": {},
     "output_type": "execute_result"
    }
   ],
   "source": [
    "df_1000['title'][908]"
   ]
  },
  {
   "cell_type": "code",
   "execution_count": 5,
   "metadata": {},
   "outputs": [
    {
     "data": {
      "text/plain": [
       "\"İtalya'da erken seçimlerin yeniden seçilmesi gündemde\""
      ]
     },
     "execution_count": 5,
     "metadata": {},
     "output_type": "execute_result"
    }
   ],
   "source": [
    "df_hel['title'][1908]"
   ]
  },
  {
   "cell_type": "code",
   "execution_count": 6,
   "metadata": {},
   "outputs": [
    {
     "data": {
      "text/plain": [
       "'[\"İtalya\\'da hükümetin yarım aylık olacağını, ancak bugünkü seçimlerde yeniden kabul edilen \\'evet\\' iadesi bekleniyor.\"]'"
      ]
     },
     "execution_count": 6,
     "metadata": {},
     "output_type": "execute_result"
    }
   ],
   "source": [
    "df_det['title'][1908]"
   ]
  },
  {
   "cell_type": "code",
   "execution_count": 7,
   "metadata": {
    "execution": {
     "iopub.execute_input": "2022-12-20T17:36:24.411180Z",
     "iopub.status.busy": "2022-12-20T17:36:24.410740Z",
     "iopub.status.idle": "2022-12-20T17:36:24.419226Z",
     "shell.execute_reply": "2022-12-20T17:36:24.417963Z"
    },
    "papermill": {
     "duration": 0.017325,
     "end_time": "2022-12-20T17:36:24.421919",
     "exception": false,
     "start_time": "2022-12-20T17:36:24.404594",
     "status": "completed"
    },
    "tags": []
   },
   "outputs": [
    {
     "data": {
      "text/plain": [
       "array(['Dünya', 'Ekonomi', 'Eğitim', 'Kültür_Sanat', 'Magazin',\n",
       "       'Otomobil', 'Sağlık', 'Siyaset', 'Spor', 'Teknoloji'], dtype=object)"
      ]
     },
     "execution_count": 7,
     "metadata": {},
     "output_type": "execute_result"
    }
   ],
   "source": [
    "class_names = np.unique(df_1000['topic'])\n",
    "class_names"
   ]
  },
  {
   "cell_type": "code",
   "execution_count": 8,
   "metadata": {},
   "outputs": [
    {
     "data": {
      "text/plain": [
       "[1264, 1314, 1341, 1359]"
      ]
     },
     "execution_count": 8,
     "metadata": {},
     "output_type": "execute_result"
    }
   ],
   "source": [
    "df_hel[df_hel['title'].isnull()].index.tolist()"
   ]
  },
  {
   "cell_type": "code",
   "execution_count": 9,
   "metadata": {},
   "outputs": [],
   "source": [
    "df_hel = df_hel.drop(index=[264, 314, 341, 359, 1264, 1314, 1341, 1359])\n",
    "df_det = df_det.drop(index=[264, 314, 341, 359, 1264, 1314, 1341, 1359])\n",
    "df_2000 = df_2000.drop(index=[264, 314, 341, 359])\n",
    "df_1000 = df_1000.drop(index=[264, 314, 341, 359])"
   ]
  },
  {
   "cell_type": "code",
   "execution_count": 8,
   "metadata": {},
   "outputs": [],
   "source": [
    "#df_1000 = df_1000.dropna()\n",
    "#df_2000 = df_2000.dropna()\n",
    "#df_hel = df_hel.dropna()\n",
    "#df_det = df_det.dropna()"
   ]
  },
  {
   "cell_type": "code",
   "execution_count": 10,
   "metadata": {},
   "outputs": [
    {
     "data": {
      "text/plain": [
       "1992"
      ]
     },
     "execution_count": 10,
     "metadata": {},
     "output_type": "execute_result"
    }
   ],
   "source": [
    "len(df_det)"
   ]
  },
  {
   "cell_type": "code",
   "execution_count": 11,
   "metadata": {
    "execution": {
     "iopub.execute_input": "2022-12-20T17:36:24.434182Z",
     "iopub.status.busy": "2022-12-20T17:36:24.433328Z",
     "iopub.status.idle": "2022-12-20T17:36:24.677752Z",
     "shell.execute_reply": "2022-12-20T17:36:24.676430Z"
    },
    "papermill": {
     "duration": 0.253344,
     "end_time": "2022-12-20T17:36:24.680404",
     "exception": false,
     "start_time": "2022-12-20T17:36:24.427060",
     "status": "completed"
    },
    "tags": []
   },
   "outputs": [
    {
     "data": {
      "text/plain": [
       "<AxesSubplot:xlabel='topic', ylabel='count'>"
      ]
     },
     "execution_count": 11,
     "metadata": {},
     "output_type": "execute_result"
    },
    {
     "data": {
      "image/png": "[encoded data removed]",
      "text/plain": [
       "<Figure size 936x288 with 1 Axes>"
      ]
     },
     "metadata": {
      "needs_background": "light"
     },
     "output_type": "display_data"
    }
   ],
   "source": [
    "plt.figure(figsize=(13, 4))\n",
    "sns.countplot(df_1000['topic'])"
   ]
  },
  {
   "cell_type": "code",
   "execution_count": 12,
   "metadata": {},
   "outputs": [
    {
     "data": {
      "text/html": [
       "<div>\n",
       "<style scoped>\n",
       "    .dataframe tbody tr th:only-of-type {\n",
       "        vertical-align: middle;\n",
       "    }\n",
       "\n",
       "    .dataframe tbody tr th {\n",
       "        vertical-align: top;\n",
       "    }\n",
       "\n",
       "    .dataframe thead th {\n",
       "        text-align: right;\n",
       "    }\n",
       "</style>\n",
       "<table border=\"1\" class=\"dataframe\">\n",
       "  <thead>\n",
       "    <tr style=\"text-align: right;\">\n",
       "      <th></th>\n",
       "      <th>Unnamed: 0</th>\n",
       "      <th>abstract</th>\n",
       "      <th>title</th>\n",
       "      <th>topic</th>\n",
       "    </tr>\n",
       "  </thead>\n",
       "  <tbody>\n",
       "    <tr>\n",
       "      <th>0</th>\n",
       "      <td>276806</td>\n",
       "      <td>sakarya’nın serdivan ilçesinde serdivanspor ka...</td>\n",
       "      <td>sahada başlayan kavga tribüne sıçradı 8 kırmız...</td>\n",
       "      <td>Spor</td>\n",
       "    </tr>\n",
       "    <tr>\n",
       "      <th>1</th>\n",
       "      <td>276807</td>\n",
       "      <td>avustralya başbakanı scott morrison merkezde k...</td>\n",
       "      <td>nauru gözaltı merkezinde sığınmacı çocuk kalma...</td>\n",
       "      <td>Dünya</td>\n",
       "    </tr>\n",
       "    <tr>\n",
       "      <th>2</th>\n",
       "      <td>276808</td>\n",
       "      <td>seat soğuk kış günlerinde otomobil camlarındak...</td>\n",
       "      <td>seat’tan kış ayları 4 öneri</td>\n",
       "      <td>Otomobil</td>\n",
       "    </tr>\n",
       "    <tr>\n",
       "      <th>3</th>\n",
       "      <td>276811</td>\n",
       "      <td>i lerleyen yaşla birlikte cildin elastikiyetin...</td>\n",
       "      <td>kış güneşi cildinizi hızla yaşlandırıyor</td>\n",
       "      <td>Sağlık</td>\n",
       "    </tr>\n",
       "    <tr>\n",
       "      <th>4</th>\n",
       "      <td>276813</td>\n",
       "      <td>sudan dışişleri bakanı ahmed oac hükümeti sila...</td>\n",
       "      <td>oacde nihai barış anlaşması çarşamba imzalanacak</td>\n",
       "      <td>Dünya</td>\n",
       "    </tr>\n",
       "  </tbody>\n",
       "</table>\n",
       "</div>"
      ],
      "text/plain": [
       "   Unnamed: 0                                           abstract  \\\n",
       "0      276806  sakarya’nın serdivan ilçesinde serdivanspor ka...   \n",
       "1      276807  avustralya başbakanı scott morrison merkezde k...   \n",
       "2      276808  seat soğuk kış günlerinde otomobil camlarındak...   \n",
       "3      276811  i lerleyen yaşla birlikte cildin elastikiyetin...   \n",
       "4      276813  sudan dışişleri bakanı ahmed oac hükümeti sila...   \n",
       "\n",
       "                                               title     topic  \n",
       "0  sahada başlayan kavga tribüne sıçradı 8 kırmız...      Spor  \n",
       "1  nauru gözaltı merkezinde sığınmacı çocuk kalma...     Dünya  \n",
       "2                        seat’tan kış ayları 4 öneri  Otomobil  \n",
       "3           kış güneşi cildinizi hızla yaşlandırıyor    Sağlık  \n",
       "4   oacde nihai barış anlaşması çarşamba imzalanacak     Dünya  "
      ]
     },
     "execution_count": 12,
     "metadata": {},
     "output_type": "execute_result"
    }
   ],
   "source": [
    "test.title = [clean_text(text) for text in test.title]\n",
    "test.head()"
   ]
  },
  {
   "cell_type": "markdown",
   "metadata": {},
   "source": [
    "### TF-IDF"
   ]
  },
  {
   "cell_type": "code",
   "execution_count": 11,
   "metadata": {},
   "outputs": [
    {
     "name": "stdout",
     "output_type": "stream",
     "text": [
      "[  10   23   25   30   39   44   54   55   59   60   63   66   67   70\n",
      "   72   76   78   86   88   96  101  107  110  120  136  137  139  158\n",
      "  168  174  184  198  199  208  209  210  213  215  218  221  235  237\n",
      "  244  247  254  256  259  260  261  265  275  277  280  281  289  292\n",
      "  294  296  298  299  307  309  310  312  314  318  319  321  327  328\n",
      "  332  346  351  355  361  363  365  370  371  377  382  408  411  425\n",
      "  429  432  436  439  445  451  462  479  486  493  494  499  513  521\n",
      "  522  526  527  528  529  534  542  543  548  549  554  559  570  578\n",
      "  583  584  589  590  595  599  601  604  613  617  621  626  635  636\n",
      "  643  644  649  650  652  656  660  662  668  670  677  678  679  687\n",
      "  689  692  697  713  714  716  721  737  740  741  749  753  761  764\n",
      "  767  787  800  802  810  811  816  820  822  823  826  829  837  845\n",
      "  849  859  865  866  867  879  883  884  892  893  899  901  902  914\n",
      "  917  924  936  938  941  942  947  948  959  973  974  977  978  985\n",
      "  986  989  995  998 1010 1023 1025 1030 1039 1044 1054 1055 1059 1060\n",
      " 1063 1066 1067 1070 1072 1076 1078 1086 1088 1096 1101 1107 1110 1120\n",
      " 1136 1137 1139 1158 1168 1174 1184 1198 1199 1208 1209 1210 1213 1215\n",
      " 1218 1221 1235 1237 1244 1247 1254 1256 1259 1260 1261 1265 1275 1277\n",
      " 1280 1281 1289 1292 1294 1296 1298 1299 1307 1309 1310 1312 1314 1318\n",
      " 1319 1321 1327 1328 1332 1346 1351 1355 1361 1363 1365 1370 1371 1377\n",
      " 1382 1408 1411 1425 1429 1432 1436 1439 1445 1451 1462 1479 1486 1493\n",
      " 1494 1499 1513 1521 1522 1526 1527 1528 1529 1534 1542 1543 1548 1549\n",
      " 1554 1559 1570 1578 1583 1584 1589 1590 1595 1599 1601 1604 1613 1617\n",
      " 1621 1626 1635 1636 1643 1644 1649 1650 1652 1656 1660 1662 1668 1670\n",
      " 1677 1678 1679 1687 1689 1692 1697 1713 1714 1716 1721 1737 1740 1741\n",
      " 1749 1753 1761 1764 1767 1787 1800 1802 1810 1811 1816 1820 1822 1823\n",
      " 1826 1829 1837 1845 1849 1859 1865 1866 1867 1879 1883 1884 1892 1893\n",
      " 1899 1901 1902 1914 1917 1924 1936 1938 1941 1942 1947 1948 1959 1973\n",
      " 1974 1977 1978 1985 1986 1989 1995 1998] [0, 1, 2, 3, 4, 5, 6, 7, 8, 9, 11, 12, 13, 14, 15, 16, 17, 18, 19, 20, 21, 22, 24, 26, 27, 28, 29, 31, 32, 33, 34, 35, 36, 37, 38, 40, 41, 42, 43, 45, 46, 47, 48, 49, 50, 51, 52, 53, 56, 57, 58, 61, 62, 64, 65, 68, 69, 71, 73, 74, 75, 77, 79, 80, 81, 82, 83, 84, 85, 87, 89, 90, 91, 92, 93, 94, 95, 97, 98, 99, 100, 102, 103, 104, 105, 106, 108, 109, 111, 112, 113, 114, 115, 116, 117, 118, 119, 121, 122, 123, 124, 125, 126, 127, 128, 129, 130, 131, 132, 133, 134, 135, 138, 140, 141, 142, 143, 144, 145, 146, 147, 148, 149, 150, 151, 152, 153, 154, 155, 156, 157, 159, 160, 161, 162, 163, 164, 165, 166, 167, 169, 170, 171, 172, 173, 175, 176, 177, 178, 179, 180, 181, 182, 183, 185, 186, 187, 188, 189, 190, 191, 192, 193, 194, 195, 196, 197, 200, 201, 202, 203, 204, 205, 206, 207, 211, 212, 214, 216, 217, 219, 220, 222, 223, 224, 225, 226, 227, 228, 229, 230, 231, 232, 233, 234, 236, 238, 239, 240, 241, 242, 243, 245, 246, 248, 249, 250, 251, 252, 253, 255, 257, 258, 262, 263, 264, 266, 267, 268, 269, 270, 271, 272, 273, 274, 276, 278, 279, 282, 283, 284, 285, 286, 287, 288, 290, 291, 293, 295, 297, 300, 301, 302, 303, 304, 305, 306, 308, 311, 313, 315, 316, 317, 320, 322, 323, 324, 325, 326, 329, 330, 331, 333, 334, 335, 336, 337, 338, 339, 340, 341, 342, 343, 344, 345, 347, 348, 349, 350, 352, 353, 354, 356, 357, 358, 359, 360, 362, 364, 366, 367, 368, 369, 372, 373, 374, 375, 376, 378, 379, 380, 381, 383, 384, 385, 386, 387, 388, 389, 390, 391, 392, 393, 394, 395, 396, 397, 398, 399, 400, 401, 402, 403, 404, 405, 406, 407, 409, 410, 412, 413, 414, 415, 416, 417, 418, 419, 420, 421, 422, 423, 424, 426, 427, 428, 430, 431, 433, 434, 435, 437, 438, 440, 441, 442, 443, 444, 446, 447, 448, 449, 450, 452, 453, 454, 455, 456, 457, 458, 459, 460, 461, 463, 464, 465, 466, 467, 468, 469, 470, 471, 472, 473, 474, 475, 476, 477, 478, 480, 481, 482, 483, 484, 485, 487, 488, 489, 490, 491, 492, 495, 496, 497, 498, 500, 501, 502, 503, 504, 505, 506, 507, 508, 509, 510, 511, 512, 514, 515, 516, 517, 518, 519, 520, 523, 524, 525, 530, 531, 532, 533, 535, 536, 537, 538, 539, 540, 541, 544, 545, 546, 547, 550, 551, 552, 553, 555, 556, 557, 558, 560, 561, 562, 563, 564, 565, 566, 567, 568, 569, 571, 572, 573, 574, 575, 576, 577, 579, 580, 581, 582, 585, 586, 587, 588, 591, 592, 593, 594, 596, 597, 598, 600, 602, 603, 605, 606, 607, 608, 609, 610, 611, 612, 614, 615, 616, 618, 619, 620, 622, 623, 624, 625, 627, 628, 629, 630, 631, 632, 633, 634, 637, 638, 639, 640, 641, 642, 645, 646, 647, 648, 651, 653, 654, 655, 657, 658, 659, 661, 663, 664, 665, 666, 667, 669, 671, 672, 673, 674, 675, 676, 680, 681, 682, 683, 684, 685, 686, 688, 690, 691, 693, 694, 695, 696, 698, 699, 700, 701, 702, 703, 704, 705, 706, 707, 708, 709, 710, 711, 712, 715, 717, 718, 719, 720, 722, 723, 724, 725, 726, 727, 728, 729, 730, 731, 732, 733, 734, 735, 736, 738, 739, 742, 743, 744, 745, 746, 747, 748, 750, 751, 752, 754, 755, 756, 757, 758, 759, 760, 762, 763, 765, 766, 768, 769, 770, 771, 772, 773, 774, 775, 776, 777, 778, 779, 780, 781, 782, 783, 784, 785, 786, 788, 789, 790, 791, 792, 793, 794, 795, 796, 797, 798, 799, 801, 803, 804, 805, 806, 807, 808, 809, 812, 813, 814, 815, 817, 818, 819, 821, 824, 825, 827, 828, 830, 831, 832, 833, 834, 835, 836, 838, 839, 840, 841, 842, 843, 844, 846, 847, 848, 850, 851, 852, 853, 854, 855, 856, 857, 858, 860, 861, 862, 863, 864, 868, 869, 870, 871, 872, 873, 874, 875, 876, 877, 878, 880, 881, 882, 885, 886, 887, 888, 889, 890, 891, 894, 895, 896, 897, 898, 900, 903, 904, 905, 906, 907, 908, 909, 910, 911, 912, 913, 915, 916, 918, 919, 920, 921, 922, 923, 925, 926, 927, 928, 929, 930, 931, 932, 933, 934, 935, 937, 939, 940, 943, 944, 945, 946, 949, 950, 951, 952, 953, 954, 955, 956, 957, 958, 960, 961, 962, 963, 964, 965, 966, 967, 968, 969, 970, 971, 972, 975, 976, 979, 980, 981, 982, 983, 984, 987, 988, 990, 991, 992, 993, 994, 996, 997, 999, 1000, 1001, 1002, 1003, 1004, 1005, 1006, 1007, 1008, 1009, 1011, 1012, 1013, 1014, 1015, 1016, 1017, 1018, 1019, 1020, 1021, 1022, 1024, 1026, 1027, 1028, 1029, 1031, 1032, 1033, 1034, 1035, 1036, 1037, 1038, 1040, 1041, 1042, 1043, 1045, 1046, 1047, 1048, 1049, 1050, 1051, 1052, 1053, 1056, 1057, 1058, 1061, 1062, 1064, 1065, 1068, 1069, 1071, 1073, 1074, 1075, 1077, 1079, 1080, 1081, 1082, 1083, 1084, 1085, 1087, 1089, 1090, 1091, 1092, 1093, 1094, 1095, 1097, 1098, 1099, 1100, 1102, 1103, 1104, 1105, 1106, 1108, 1109, 1111, 1112, 1113, 1114, 1115, 1116, 1117, 1118, 1119, 1121, 1122, 1123, 1124, 1125, 1126, 1127, 1128, 1129, 1130, 1131, 1132, 1133, 1134, 1135, 1138, 1140, 1141, 1142, 1143, 1144, 1145, 1146, 1147, 1148, 1149, 1150, 1151, 1152, 1153, 1154, 1155, 1156, 1157, 1159, 1160, 1161, 1162, 1163, 1164, 1165, 1166, 1167, 1169, 1170, 1171, 1172, 1173, 1175, 1176, 1177, 1178, 1179, 1180, 1181, 1182, 1183, 1185, 1186, 1187, 1188, 1189, 1190, 1191, 1192, 1193, 1194, 1195, 1196, 1197, 1200, 1201, 1202, 1203, 1204, 1205, 1206, 1207, 1211, 1212, 1214, 1216, 1217, 1219, 1220, 1222, 1223, 1224, 1225, 1226, 1227, 1228, 1229, 1230, 1231, 1232, 1233, 1234, 1236, 1238, 1239, 1240, 1241, 1242, 1243, 1245, 1246, 1248, 1249, 1250, 1251, 1252, 1253, 1255, 1257, 1258, 1262, 1263, 1264, 1266, 1267, 1268, 1269, 1270, 1271, 1272, 1273, 1274, 1276, 1278, 1279, 1282, 1283, 1284, 1285, 1286, 1287, 1288, 1290, 1291, 1293, 1295, 1297, 1300, 1301, 1302, 1303, 1304, 1305, 1306, 1308, 1311, 1313, 1315, 1316, 1317, 1320, 1322, 1323, 1324, 1325, 1326, 1329, 1330, 1331, 1333, 1334, 1335, 1336, 1337, 1338, 1339, 1340, 1341, 1342, 1343, 1344, 1345, 1347, 1348, 1349, 1350, 1352, 1353, 1354, 1356, 1357, 1358, 1359, 1360, 1362, 1364, 1366, 1367, 1368, 1369, 1372, 1373, 1374, 1375, 1376, 1378, 1379, 1380, 1381, 1383, 1384, 1385, 1386, 1387, 1388, 1389, 1390, 1391, 1392, 1393, 1394, 1395, 1396, 1397, 1398, 1399, 1400, 1401, 1402, 1403, 1404, 1405, 1406, 1407, 1409, 1410, 1412, 1413, 1414, 1415, 1416, 1417, 1418, 1419, 1420, 1421, 1422, 1423, 1424, 1426, 1427, 1428, 1430, 1431, 1433, 1434, 1435, 1437, 1438, 1440, 1441, 1442, 1443, 1444, 1446, 1447, 1448, 1449, 1450, 1452, 1453, 1454, 1455, 1456, 1457, 1458, 1459, 1460, 1461, 1463, 1464, 1465, 1466, 1467, 1468, 1469, 1470, 1471, 1472, 1473, 1474, 1475, 1476, 1477, 1478, 1480, 1481, 1482, 1483, 1484, 1485, 1487, 1488, 1489, 1490, 1491, 1492, 1495, 1496, 1497, 1498, 1500, 1501, 1502, 1503, 1504, 1505, 1506, 1507, 1508, 1509, 1510, 1511, 1512, 1514, 1515, 1516, 1517, 1518, 1519, 1520, 1523, 1524, 1525, 1530, 1531, 1532, 1533, 1535, 1536, 1537, 1538, 1539, 1540, 1541, 1544, 1545, 1546, 1547, 1550, 1551, 1552, 1553, 1555, 1556, 1557, 1558, 1560, 1561, 1562, 1563, 1564, 1565, 1566, 1567, 1568, 1569, 1571, 1572, 1573, 1574, 1575, 1576, 1577, 1579, 1580, 1581, 1582, 1585, 1586, 1587, 1588, 1591, 1592, 1593, 1594, 1596, 1597, 1598, 1600, 1602, 1603, 1605, 1606, 1607, 1608, 1609, 1610, 1611, 1612, 1614, 1615, 1616, 1618, 1619, 1620, 1622, 1623, 1624, 1625, 1627, 1628, 1629, 1630, 1631, 1632, 1633, 1634, 1637, 1638, 1639, 1640, 1641, 1642, 1645, 1646, 1647, 1648, 1651, 1653, 1654, 1655, 1657, 1658, 1659, 1661, 1663, 1664, 1665, 1666, 1667, 1669, 1671, 1672, 1673, 1674, 1675, 1676, 1680, 1681, 1682, 1683, 1684, 1685, 1686, 1688, 1690, 1691, 1693, 1694, 1695, 1696, 1698, 1699, 1700, 1701, 1702, 1703, 1704, 1705, 1706, 1707, 1708, 1709, 1710, 1711, 1712, 1715, 1717, 1718, 1719, 1720, 1722, 1723, 1724, 1725, 1726, 1727, 1728, 1729, 1730, 1731, 1732, 1733, 1734, 1735, 1736, 1738, 1739, 1742, 1743, 1744, 1745, 1746, 1747, 1748, 1750, 1751, 1752, 1754, 1755, 1756, 1757, 1758, 1759, 1760, 1762, 1763, 1765, 1766, 1768, 1769, 1770, 1771, 1772, 1773, 1774, 1775, 1776, 1777, 1778, 1779, 1780, 1781, 1782, 1783, 1784, 1785, 1786, 1788, 1789, 1790, 1791, 1792, 1793, 1794, 1795, 1796, 1797, 1798, 1799, 1801, 1803, 1804, 1805, 1806, 1807, 1808, 1809, 1812, 1813, 1814, 1815, 1817, 1818, 1819, 1821, 1824, 1825, 1827, 1828, 1830, 1831, 1832, 1833, 1834, 1835, 1836, 1838, 1839, 1840, 1841, 1842, 1843, 1844, 1846, 1847, 1848, 1850, 1851, 1852, 1853, 1854, 1855, 1856, 1857, 1858, 1860, 1861, 1862, 1863, 1864, 1868, 1869, 1870, 1871, 1872, 1873, 1874, 1875, 1876, 1877, 1878, 1880, 1881, 1882, 1885, 1886, 1887, 1888, 1889, 1890, 1891, 1894, 1895, 1896, 1897, 1898, 1900, 1903, 1904, 1905, 1906, 1907, 1908, 1909, 1910, 1911, 1912, 1913, 1915, 1916, 1918, 1919, 1920, 1921, 1922, 1923, 1925, 1926, 1927, 1928, 1929, 1930, 1931, 1932, 1933, 1934, 1935, 1937, 1939, 1940, 1943, 1944, 1945, 1946, 1949, 1950, 1951, 1952, 1953, 1954, 1955, 1956, 1957, 1958, 1960, 1961, 1962, 1963, 1964, 1965, 1966, 1967, 1968, 1969, 1970, 1971, 1972, 1975, 1976, 1979, 1980, 1981, 1982, 1983, 1984, 1987, 1988, 1990, 1991, 1992, 1993, 1994, 1996, 1997, 1999]\n",
      "[   0    2    3    5    6    7    9   28   29   31   33   41   49   56\n",
      "   65   69   73   77   79   81   82   84   90   97  108  109  118  125\n",
      "  131  132  133  135  140  141  144  145  148  155  164  165  169  172\n",
      "  173  181  185  192  193  196  204  211  212  220  227  228  231  234\n",
      "  238  239  249  250  266  274  286  290  291  300  302  305  306  311\n",
      "  316  323  326  331  333  334  342  344  350  352  357  359  362  380\n",
      "  381  388  394  398  404  405  420  422  423  424  428  430  440  442\n",
      "  448  449  450  453  464  465  468  477  478  481  482  485  490  495\n",
      "  500  501  506  514  519  523  530  532  535  536  541  544  547  552\n",
      "  557  567  575  576  580  581  587  588  594  596  603  628  629  631\n",
      "  655  664  695  696  703  705  706  707  708  711  717  722  728  731\n",
      "  734  745  757  773  774  777  778  783  789  792  796  797  798  799\n",
      "  813  824  827  836  852  868  872  894  895  896  900  903  904  907\n",
      "  910  916  918  922  923  925  934  935  939  946  949  950  963  975\n",
      "  990  991  994  997 1000 1002 1003 1005 1006 1007 1009 1028 1029 1031\n",
      " 1033 1041 1049 1056 1065 1069 1073 1077 1079 1081 1082 1084 1090 1097\n",
      " 1108 1109 1118 1125 1131 1132 1133 1135 1140 1141 1144 1145 1148 1155\n",
      " 1164 1165 1169 1172 1173 1181 1185 1192 1193 1196 1204 1211 1212 1220\n",
      " 1227 1228 1231 1234 1238 1239 1249 1250 1266 1274 1286 1290 1291 1300\n",
      " 1302 1305 1306 1311 1316 1323 1326 1331 1333 1334 1342 1344 1350 1352\n",
      " 1357 1359 1362 1380 1381 1388 1394 1398 1404 1405 1420 1422 1423 1424\n",
      " 1428 1430 1440 1442 1448 1449 1450 1453 1464 1465 1468 1477 1478 1481\n",
      " 1482 1485 1490 1495 1500 1501 1506 1514 1519 1523 1530 1532 1535 1536\n",
      " 1541 1544 1547 1552 1557 1567 1575 1576 1580 1581 1587 1588 1594 1596\n",
      " 1603 1628 1629 1631 1655 1664 1695 1696 1703 1705 1706 1707 1708 1711\n",
      " 1717 1722 1728 1731 1734 1745 1757 1773 1774 1777 1778 1783 1789 1792\n",
      " 1796 1797 1798 1799 1813 1824 1827 1836 1852 1868 1872 1894 1895 1896\n",
      " 1900 1903 1904 1907 1910 1916 1918 1922 1923 1925 1934 1935 1939 1946\n",
      " 1949 1950 1963 1975 1990 1991 1994 1997] [1, 4, 8, 10, 11, 12, 13, 14, 15, 16, 17, 18, 19, 20, 21, 22, 23, 24, 25, 26, 27, 30, 32, 34, 35, 36, 37, 38, 39, 40, 42, 43, 44, 45, 46, 47, 48, 50, 51, 52, 53, 54, 55, 57, 58, 59, 60, 61, 62, 63, 64, 66, 67, 68, 70, 71, 72, 74, 75, 76, 78, 80, 83, 85, 86, 87, 88, 89, 91, 92, 93, 94, 95, 96, 98, 99, 100, 101, 102, 103, 104, 105, 106, 107, 110, 111, 112, 113, 114, 115, 116, 117, 119, 120, 121, 122, 123, 124, 126, 127, 128, 129, 130, 134, 136, 137, 138, 139, 142, 143, 146, 147, 149, 150, 151, 152, 153, 154, 156, 157, 158, 159, 160, 161, 162, 163, 166, 167, 168, 170, 171, 174, 175, 176, 177, 178, 179, 180, 182, 183, 184, 186, 187, 188, 189, 190, 191, 194, 195, 197, 198, 199, 200, 201, 202, 203, 205, 206, 207, 208, 209, 210, 213, 214, 215, 216, 217, 218, 219, 221, 222, 223, 224, 225, 226, 229, 230, 232, 233, 235, 236, 237, 240, 241, 242, 243, 244, 245, 246, 247, 248, 251, 252, 253, 254, 255, 256, 257, 258, 259, 260, 261, 262, 263, 264, 265, 267, 268, 269, 270, 271, 272, 273, 275, 276, 277, 278, 279, 280, 281, 282, 283, 284, 285, 287, 288, 289, 292, 293, 294, 295, 296, 297, 298, 299, 301, 303, 304, 307, 308, 309, 310, 312, 313, 314, 315, 317, 318, 319, 320, 321, 322, 324, 325, 327, 328, 329, 330, 332, 335, 336, 337, 338, 339, 340, 341, 343, 345, 346, 347, 348, 349, 351, 353, 354, 355, 356, 358, 360, 361, 363, 364, 365, 366, 367, 368, 369, 370, 371, 372, 373, 374, 375, 376, 377, 378, 379, 382, 383, 384, 385, 386, 387, 389, 390, 391, 392, 393, 395, 396, 397, 399, 400, 401, 402, 403, 406, 407, 408, 409, 410, 411, 412, 413, 414, 415, 416, 417, 418, 419, 421, 425, 426, 427, 429, 431, 432, 433, 434, 435, 436, 437, 438, 439, 441, 443, 444, 445, 446, 447, 451, 452, 454, 455, 456, 457, 458, 459, 460, 461, 462, 463, 466, 467, 469, 470, 471, 472, 473, 474, 475, 476, 479, 480, 483, 484, 486, 487, 488, 489, 491, 492, 493, 494, 496, 497, 498, 499, 502, 503, 504, 505, 507, 508, 509, 510, 511, 512, 513, 515, 516, 517, 518, 520, 521, 522, 524, 525, 526, 527, 528, 529, 531, 533, 534, 537, 538, 539, 540, 542, 543, 545, 546, 548, 549, 550, 551, 553, 554, 555, 556, 558, 559, 560, 561, 562, 563, 564, 565, 566, 568, 569, 570, 571, 572, 573, 574, 577, 578, 579, 582, 583, 584, 585, 586, 589, 590, 591, 592, 593, 595, 597, 598, 599, 600, 601, 602, 604, 605, 606, 607, 608, 609, 610, 611, 612, 613, 614, 615, 616, 617, 618, 619, 620, 621, 622, 623, 624, 625, 626, 627, 630, 632, 633, 634, 635, 636, 637, 638, 639, 640, 641, 642, 643, 644, 645, 646, 647, 648, 649, 650, 651, 652, 653, 654, 656, 657, 658, 659, 660, 661, 662, 663, 665, 666, 667, 668, 669, 670, 671, 672, 673, 674, 675, 676, 677, 678, 679, 680, 681, 682, 683, 684, 685, 686, 687, 688, 689, 690, 691, 692, 693, 694, 697, 698, 699, 700, 701, 702, 704, 709, 710, 712, 713, 714, 715, 716, 718, 719, 720, 721, 723, 724, 725, 726, 727, 729, 730, 732, 733, 735, 736, 737, 738, 739, 740, 741, 742, 743, 744, 746, 747, 748, 749, 750, 751, 752, 753, 754, 755, 756, 758, 759, 760, 761, 762, 763, 764, 765, 766, 767, 768, 769, 770, 771, 772, 775, 776, 779, 780, 781, 782, 784, 785, 786, 787, 788, 790, 791, 793, 794, 795, 800, 801, 802, 803, 804, 805, 806, 807, 808, 809, 810, 811, 812, 814, 815, 816, 817, 818, 819, 820, 821, 822, 823, 825, 826, 828, 829, 830, 831, 832, 833, 834, 835, 837, 838, 839, 840, 841, 842, 843, 844, 845, 846, 847, 848, 849, 850, 851, 853, 854, 855, 856, 857, 858, 859, 860, 861, 862, 863, 864, 865, 866, 867, 869, 870, 871, 873, 874, 875, 876, 877, 878, 879, 880, 881, 882, 883, 884, 885, 886, 887, 888, 889, 890, 891, 892, 893, 897, 898, 899, 901, 902, 905, 906, 908, 909, 911, 912, 913, 914, 915, 917, 919, 920, 921, 924, 926, 927, 928, 929, 930, 931, 932, 933, 936, 937, 938, 940, 941, 942, 943, 944, 945, 947, 948, 951, 952, 953, 954, 955, 956, 957, 958, 959, 960, 961, 962, 964, 965, 966, 967, 968, 969, 970, 971, 972, 973, 974, 976, 977, 978, 979, 980, 981, 982, 983, 984, 985, 986, 987, 988, 989, 992, 993, 995, 996, 998, 999, 1001, 1004, 1008, 1010, 1011, 1012, 1013, 1014, 1015, 1016, 1017, 1018, 1019, 1020, 1021, 1022, 1023, 1024, 1025, 1026, 1027, 1030, 1032, 1034, 1035, 1036, 1037, 1038, 1039, 1040, 1042, 1043, 1044, 1045, 1046, 1047, 1048, 1050, 1051, 1052, 1053, 1054, 1055, 1057, 1058, 1059, 1060, 1061, 1062, 1063, 1064, 1066, 1067, 1068, 1070, 1071, 1072, 1074, 1075, 1076, 1078, 1080, 1083, 1085, 1086, 1087, 1088, 1089, 1091, 1092, 1093, 1094, 1095, 1096, 1098, 1099, 1100, 1101, 1102, 1103, 1104, 1105, 1106, 1107, 1110, 1111, 1112, 1113, 1114, 1115, 1116, 1117, 1119, 1120, 1121, 1122, 1123, 1124, 1126, 1127, 1128, 1129, 1130, 1134, 1136, 1137, 1138, 1139, 1142, 1143, 1146, 1147, 1149, 1150, 1151, 1152, 1153, 1154, 1156, 1157, 1158, 1159, 1160, 1161, 1162, 1163, 1166, 1167, 1168, 1170, 1171, 1174, 1175, 1176, 1177, 1178, 1179, 1180, 1182, 1183, 1184, 1186, 1187, 1188, 1189, 1190, 1191, 1194, 1195, 1197, 1198, 1199, 1200, 1201, 1202, 1203, 1205, 1206, 1207, 1208, 1209, 1210, 1213, 1214, 1215, 1216, 1217, 1218, 1219, 1221, 1222, 1223, 1224, 1225, 1226, 1229, 1230, 1232, 1233, 1235, 1236, 1237, 1240, 1241, 1242, 1243, 1244, 1245, 1246, 1247, 1248, 1251, 1252, 1253, 1254, 1255, 1256, 1257, 1258, 1259, 1260, 1261, 1262, 1263, 1264, 1265, 1267, 1268, 1269, 1270, 1271, 1272, 1273, 1275, 1276, 1277, 1278, 1279, 1280, 1281, 1282, 1283, 1284, 1285, 1287, 1288, 1289, 1292, 1293, 1294, 1295, 1296, 1297, 1298, 1299, 1301, 1303, 1304, 1307, 1308, 1309, 1310, 1312, 1313, 1314, 1315, 1317, 1318, 1319, 1320, 1321, 1322, 1324, 1325, 1327, 1328, 1329, 1330, 1332, 1335, 1336, 1337, 1338, 1339, 1340, 1341, 1343, 1345, 1346, 1347, 1348, 1349, 1351, 1353, 1354, 1355, 1356, 1358, 1360, 1361, 1363, 1364, 1365, 1366, 1367, 1368, 1369, 1370, 1371, 1372, 1373, 1374, 1375, 1376, 1377, 1378, 1379, 1382, 1383, 1384, 1385, 1386, 1387, 1389, 1390, 1391, 1392, 1393, 1395, 1396, 1397, 1399, 1400, 1401, 1402, 1403, 1406, 1407, 1408, 1409, 1410, 1411, 1412, 1413, 1414, 1415, 1416, 1417, 1418, 1419, 1421, 1425, 1426, 1427, 1429, 1431, 1432, 1433, 1434, 1435, 1436, 1437, 1438, 1439, 1441, 1443, 1444, 1445, 1446, 1447, 1451, 1452, 1454, 1455, 1456, 1457, 1458, 1459, 1460, 1461, 1462, 1463, 1466, 1467, 1469, 1470, 1471, 1472, 1473, 1474, 1475, 1476, 1479, 1480, 1483, 1484, 1486, 1487, 1488, 1489, 1491, 1492, 1493, 1494, 1496, 1497, 1498, 1499, 1502, 1503, 1504, 1505, 1507, 1508, 1509, 1510, 1511, 1512, 1513, 1515, 1516, 1517, 1518, 1520, 1521, 1522, 1524, 1525, 1526, 1527, 1528, 1529, 1531, 1533, 1534, 1537, 1538, 1539, 1540, 1542, 1543, 1545, 1546, 1548, 1549, 1550, 1551, 1553, 1554, 1555, 1556, 1558, 1559, 1560, 1561, 1562, 1563, 1564, 1565, 1566, 1568, 1569, 1570, 1571, 1572, 1573, 1574, 1577, 1578, 1579, 1582, 1583, 1584, 1585, 1586, 1589, 1590, 1591, 1592, 1593, 1595, 1597, 1598, 1599, 1600, 1601, 1602, 1604, 1605, 1606, 1607, 1608, 1609, 1610, 1611, 1612, 1613, 1614, 1615, 1616, 1617, 1618, 1619, 1620, 1621, 1622, 1623, 1624, 1625, 1626, 1627, 1630, 1632, 1633, 1634, 1635, 1636, 1637, 1638, 1639, 1640, 1641, 1642, 1643, 1644, 1645, 1646, 1647, 1648, 1649, 1650, 1651, 1652, 1653, 1654, 1656, 1657, 1658, 1659, 1660, 1661, 1662, 1663, 1665, 1666, 1667, 1668, 1669, 1670, 1671, 1672, 1673, 1674, 1675, 1676, 1677, 1678, 1679, 1680, 1681, 1682, 1683, 1684, 1685, 1686, 1687, 1688, 1689, 1690, 1691, 1692, 1693, 1694, 1697, 1698, 1699, 1700, 1701, 1702, 1704, 1709, 1710, 1712, 1713, 1714, 1715, 1716, 1718, 1719, 1720, 1721, 1723, 1724, 1725, 1726, 1727, 1729, 1730, 1732, 1733, 1735, 1736, 1737, 1738, 1739, 1740, 1741, 1742, 1743, 1744, 1746, 1747, 1748, 1749, 1750, 1751, 1752, 1753, 1754, 1755, 1756, 1758, 1759, 1760, 1761, 1762, 1763, 1764, 1765, 1766, 1767, 1768, 1769, 1770, 1771, 1772, 1775, 1776, 1779, 1780, 1781, 1782, 1784, 1785, 1786, 1787, 1788, 1790, 1791, 1793, 1794, 1795, 1800, 1801, 1802, 1803, 1804, 1805, 1806, 1807, 1808, 1809, 1810, 1811, 1812, 1814, 1815, 1816, 1817, 1818, 1819, 1820, 1821, 1822, 1823, 1825, 1826, 1828, 1829, 1830, 1831, 1832, 1833, 1834, 1835, 1837, 1838, 1839, 1840, 1841, 1842, 1843, 1844, 1845, 1846, 1847, 1848, 1849, 1850, 1851, 1853, 1854, 1855, 1856, 1857, 1858, 1859, 1860, 1861, 1862, 1863, 1864, 1865, 1866, 1867, 1869, 1870, 1871, 1873, 1874, 1875, 1876, 1877, 1878, 1879, 1880, 1881, 1882, 1883, 1884, 1885, 1886, 1887, 1888, 1889, 1890, 1891, 1892, 1893, 1897, 1898, 1899, 1901, 1902, 1905, 1906, 1908, 1909, 1911, 1912, 1913, 1914, 1915, 1917, 1919, 1920, 1921, 1924, 1926, 1927, 1928, 1929, 1930, 1931, 1932, 1933, 1936, 1937, 1938, 1940, 1941, 1942, 1943, 1944, 1945, 1947, 1948, 1951, 1952, 1953, 1954, 1955, 1956, 1957, 1958, 1959, 1960, 1961, 1962, 1964, 1965, 1966, 1967, 1968, 1969, 1970, 1971, 1972, 1973, 1974, 1976, 1977, 1978, 1979, 1980, 1981, 1982, 1983, 1984, 1985, 1986, 1987, 1988, 1989, 1992, 1993, 1995, 1996, 1998, 1999]\n",
      "[  11   12   15   18   19   22   24   38   42   43   46   50   51   57\n",
      "   61   68   74   75   83   89   92   93   94  100  104  113  114  116\n",
      "  117  124  126  142  149  153  154  163  167  175  176  177  178  179\n",
      "  182  188  195  203  222  223  236  245  248  257  263  264  268  271\n",
      "  272  278  284  285  287  304  320  324  329  335  336  338  340  341\n",
      "  349  353  354  356  360  367  368  369  375  383  390  393  395  396\n",
      "  399  407  409  412  416  417  426  431  433  434  443  444  446  447\n",
      "  456  457  467  470  473  483  487  497  507  512  516  518  525  531\n",
      "  533  537  538  539  545  551  558  568  569  572  582  585  591  593\n",
      "  597  598  602  605  611  615  618  620  622  625  630  633  634  638\n",
      "  653  665  666  667  669  673  675  680  682  684  693  694  710  715\n",
      "  730  736  743  751  754  756  758  781  786  790  793  808  809  817\n",
      "  825  828  832  833  834  844  858  861  863  870  873  876  881  882\n",
      "  885  911  912  920  921  926  927  930  933  943  956  960  961  966\n",
      "  970  983  988  999 1011 1012 1015 1018 1019 1022 1024 1038 1042 1043\n",
      " 1046 1050 1051 1057 1061 1068 1074 1075 1083 1089 1092 1093 1094 1100\n",
      " 1104 1113 1114 1116 1117 1124 1126 1142 1149 1153 1154 1163 1167 1175\n",
      " 1176 1177 1178 1179 1182 1188 1195 1203 1222 1223 1236 1245 1248 1257\n",
      " 1263 1264 1268 1271 1272 1278 1284 1285 1287 1304 1320 1324 1329 1335\n",
      " 1336 1338 1340 1341 1349 1353 1354 1356 1360 1367 1368 1369 1375 1383\n",
      " 1390 1393 1395 1396 1399 1407 1409 1412 1416 1417 1426 1431 1433 1434\n",
      " 1443 1444 1446 1447 1456 1457 1467 1470 1473 1483 1487 1497 1507 1512\n",
      " 1516 1518 1525 1531 1533 1537 1538 1539 1545 1551 1558 1568 1569 1572\n",
      " 1582 1585 1591 1593 1597 1598 1602 1605 1611 1615 1618 1620 1622 1625\n",
      " 1630 1633 1634 1638 1653 1665 1666 1667 1669 1673 1675 1680 1682 1684\n",
      " 1693 1694 1710 1715 1730 1736 1743 1751 1754 1756 1758 1781 1786 1790\n",
      " 1793 1808 1809 1817 1825 1828 1832 1833 1834 1844 1858 1861 1863 1870\n",
      " 1873 1876 1881 1882 1885 1911 1912 1920 1921 1926 1927 1930 1933 1943\n",
      " 1956 1960 1961 1966 1970 1983 1988 1999] [0, 1, 2, 3, 4, 5, 6, 7, 8, 9, 10, 13, 14, 16, 17, 20, 21, 23, 25, 26, 27, 28, 29, 30, 31, 32, 33, 34, 35, 36, 37, 39, 40, 41, 44, 45, 47, 48, 49, 52, 53, 54, 55, 56, 58, 59, 60, 62, 63, 64, 65, 66, 67, 69, 70, 71, 72, 73, 76, 77, 78, 79, 80, 81, 82, 84, 85, 86, 87, 88, 90, 91, 95, 96, 97, 98, 99, 101, 102, 103, 105, 106, 107, 108, 109, 110, 111, 112, 115, 118, 119, 120, 121, 122, 123, 125, 127, 128, 129, 130, 131, 132, 133, 134, 135, 136, 137, 138, 139, 140, 141, 143, 144, 145, 146, 147, 148, 150, 151, 152, 155, 156, 157, 158, 159, 160, 161, 162, 164, 165, 166, 168, 169, 170, 171, 172, 173, 174, 180, 181, 183, 184, 185, 186, 187, 189, 190, 191, 192, 193, 194, 196, 197, 198, 199, 200, 201, 202, 204, 205, 206, 207, 208, 209, 210, 211, 212, 213, 214, 215, 216, 217, 218, 219, 220, 221, 224, 225, 226, 227, 228, 229, 230, 231, 232, 233, 234, 235, 237, 238, 239, 240, 241, 242, 243, 244, 246, 247, 249, 250, 251, 252, 253, 254, 255, 256, 258, 259, 260, 261, 262, 265, 266, 267, 269, 270, 273, 274, 275, 276, 277, 279, 280, 281, 282, 283, 286, 288, 289, 290, 291, 292, 293, 294, 295, 296, 297, 298, 299, 300, 301, 302, 303, 305, 306, 307, 308, 309, 310, 311, 312, 313, 314, 315, 316, 317, 318, 319, 321, 322, 323, 325, 326, 327, 328, 330, 331, 332, 333, 334, 337, 339, 342, 343, 344, 345, 346, 347, 348, 350, 351, 352, 355, 357, 358, 359, 361, 362, 363, 364, 365, 366, 370, 371, 372, 373, 374, 376, 377, 378, 379, 380, 381, 382, 384, 385, 386, 387, 388, 389, 391, 392, 394, 397, 398, 400, 401, 402, 403, 404, 405, 406, 408, 410, 411, 413, 414, 415, 418, 419, 420, 421, 422, 423, 424, 425, 427, 428, 429, 430, 432, 435, 436, 437, 438, 439, 440, 441, 442, 445, 448, 449, 450, 451, 452, 453, 454, 455, 458, 459, 460, 461, 462, 463, 464, 465, 466, 468, 469, 471, 472, 474, 475, 476, 477, 478, 479, 480, 481, 482, 484, 485, 486, 488, 489, 490, 491, 492, 493, 494, 495, 496, 498, 499, 500, 501, 502, 503, 504, 505, 506, 508, 509, 510, 511, 513, 514, 515, 517, 519, 520, 521, 522, 523, 524, 526, 527, 528, 529, 530, 532, 534, 535, 536, 540, 541, 542, 543, 544, 546, 547, 548, 549, 550, 552, 553, 554, 555, 556, 557, 559, 560, 561, 562, 563, 564, 565, 566, 567, 570, 571, 573, 574, 575, 576, 577, 578, 579, 580, 581, 583, 584, 586, 587, 588, 589, 590, 592, 594, 595, 596, 599, 600, 601, 603, 604, 606, 607, 608, 609, 610, 612, 613, 614, 616, 617, 619, 621, 623, 624, 626, 627, 628, 629, 631, 632, 635, 636, 637, 639, 640, 641, 642, 643, 644, 645, 646, 647, 648, 649, 650, 651, 652, 654, 655, 656, 657, 658, 659, 660, 661, 662, 663, 664, 668, 670, 671, 672, 674, 676, 677, 678, 679, 681, 683, 685, 686, 687, 688, 689, 690, 691, 692, 695, 696, 697, 698, 699, 700, 701, 702, 703, 704, 705, 706, 707, 708, 709, 711, 712, 713, 714, 716, 717, 718, 719, 720, 721, 722, 723, 724, 725, 726, 727, 728, 729, 731, 732, 733, 734, 735, 737, 738, 739, 740, 741, 742, 744, 745, 746, 747, 748, 749, 750, 752, 753, 755, 757, 759, 760, 761, 762, 763, 764, 765, 766, 767, 768, 769, 770, 771, 772, 773, 774, 775, 776, 777, 778, 779, 780, 782, 783, 784, 785, 787, 788, 789, 791, 792, 794, 795, 796, 797, 798, 799, 800, 801, 802, 803, 804, 805, 806, 807, 810, 811, 812, 813, 814, 815, 816, 818, 819, 820, 821, 822, 823, 824, 826, 827, 829, 830, 831, 835, 836, 837, 838, 839, 840, 841, 842, 843, 845, 846, 847, 848, 849, 850, 851, 852, 853, 854, 855, 856, 857, 859, 860, 862, 864, 865, 866, 867, 868, 869, 871, 872, 874, 875, 877, 878, 879, 880, 883, 884, 886, 887, 888, 889, 890, 891, 892, 893, 894, 895, 896, 897, 898, 899, 900, 901, 902, 903, 904, 905, 906, 907, 908, 909, 910, 913, 914, 915, 916, 917, 918, 919, 922, 923, 924, 925, 928, 929, 931, 932, 934, 935, 936, 937, 938, 939, 940, 941, 942, 944, 945, 946, 947, 948, 949, 950, 951, 952, 953, 954, 955, 957, 958, 959, 962, 963, 964, 965, 967, 968, 969, 971, 972, 973, 974, 975, 976, 977, 978, 979, 980, 981, 982, 984, 985, 986, 987, 989, 990, 991, 992, 993, 994, 995, 996, 997, 998, 1000, 1001, 1002, 1003, 1004, 1005, 1006, 1007, 1008, 1009, 1010, 1013, 1014, 1016, 1017, 1020, 1021, 1023, 1025, 1026, 1027, 1028, 1029, 1030, 1031, 1032, 1033, 1034, 1035, 1036, 1037, 1039, 1040, 1041, 1044, 1045, 1047, 1048, 1049, 1052, 1053, 1054, 1055, 1056, 1058, 1059, 1060, 1062, 1063, 1064, 1065, 1066, 1067, 1069, 1070, 1071, 1072, 1073, 1076, 1077, 1078, 1079, 1080, 1081, 1082, 1084, 1085, 1086, 1087, 1088, 1090, 1091, 1095, 1096, 1097, 1098, 1099, 1101, 1102, 1103, 1105, 1106, 1107, 1108, 1109, 1110, 1111, 1112, 1115, 1118, 1119, 1120, 1121, 1122, 1123, 1125, 1127, 1128, 1129, 1130, 1131, 1132, 1133, 1134, 1135, 1136, 1137, 1138, 1139, 1140, 1141, 1143, 1144, 1145, 1146, 1147, 1148, 1150, 1151, 1152, 1155, 1156, 1157, 1158, 1159, 1160, 1161, 1162, 1164, 1165, 1166, 1168, 1169, 1170, 1171, 1172, 1173, 1174, 1180, 1181, 1183, 1184, 1185, 1186, 1187, 1189, 1190, 1191, 1192, 1193, 1194, 1196, 1197, 1198, 1199, 1200, 1201, 1202, 1204, 1205, 1206, 1207, 1208, 1209, 1210, 1211, 1212, 1213, 1214, 1215, 1216, 1217, 1218, 1219, 1220, 1221, 1224, 1225, 1226, 1227, 1228, 1229, 1230, 1231, 1232, 1233, 1234, 1235, 1237, 1238, 1239, 1240, 1241, 1242, 1243, 1244, 1246, 1247, 1249, 1250, 1251, 1252, 1253, 1254, 1255, 1256, 1258, 1259, 1260, 1261, 1262, 1265, 1266, 1267, 1269, 1270, 1273, 1274, 1275, 1276, 1277, 1279, 1280, 1281, 1282, 1283, 1286, 1288, 1289, 1290, 1291, 1292, 1293, 1294, 1295, 1296, 1297, 1298, 1299, 1300, 1301, 1302, 1303, 1305, 1306, 1307, 1308, 1309, 1310, 1311, 1312, 1313, 1314, 1315, 1316, 1317, 1318, 1319, 1321, 1322, 1323, 1325, 1326, 1327, 1328, 1330, 1331, 1332, 1333, 1334, 1337, 1339, 1342, 1343, 1344, 1345, 1346, 1347, 1348, 1350, 1351, 1352, 1355, 1357, 1358, 1359, 1361, 1362, 1363, 1364, 1365, 1366, 1370, 1371, 1372, 1373, 1374, 1376, 1377, 1378, 1379, 1380, 1381, 1382, 1384, 1385, 1386, 1387, 1388, 1389, 1391, 1392, 1394, 1397, 1398, 1400, 1401, 1402, 1403, 1404, 1405, 1406, 1408, 1410, 1411, 1413, 1414, 1415, 1418, 1419, 1420, 1421, 1422, 1423, 1424, 1425, 1427, 1428, 1429, 1430, 1432, 1435, 1436, 1437, 1438, 1439, 1440, 1441, 1442, 1445, 1448, 1449, 1450, 1451, 1452, 1453, 1454, 1455, 1458, 1459, 1460, 1461, 1462, 1463, 1464, 1465, 1466, 1468, 1469, 1471, 1472, 1474, 1475, 1476, 1477, 1478, 1479, 1480, 1481, 1482, 1484, 1485, 1486, 1488, 1489, 1490, 1491, 1492, 1493, 1494, 1495, 1496, 1498, 1499, 1500, 1501, 1502, 1503, 1504, 1505, 1506, 1508, 1509, 1510, 1511, 1513, 1514, 1515, 1517, 1519, 1520, 1521, 1522, 1523, 1524, 1526, 1527, 1528, 1529, 1530, 1532, 1534, 1535, 1536, 1540, 1541, 1542, 1543, 1544, 1546, 1547, 1548, 1549, 1550, 1552, 1553, 1554, 1555, 1556, 1557, 1559, 1560, 1561, 1562, 1563, 1564, 1565, 1566, 1567, 1570, 1571, 1573, 1574, 1575, 1576, 1577, 1578, 1579, 1580, 1581, 1583, 1584, 1586, 1587, 1588, 1589, 1590, 1592, 1594, 1595, 1596, 1599, 1600, 1601, 1603, 1604, 1606, 1607, 1608, 1609, 1610, 1612, 1613, 1614, 1616, 1617, 1619, 1621, 1623, 1624, 1626, 1627, 1628, 1629, 1631, 1632, 1635, 1636, 1637, 1639, 1640, 1641, 1642, 1643, 1644, 1645, 1646, 1647, 1648, 1649, 1650, 1651, 1652, 1654, 1655, 1656, 1657, 1658, 1659, 1660, 1661, 1662, 1663, 1664, 1668, 1670, 1671, 1672, 1674, 1676, 1677, 1678, 1679, 1681, 1683, 1685, 1686, 1687, 1688, 1689, 1690, 1691, 1692, 1695, 1696, 1697, 1698, 1699, 1700, 1701, 1702, 1703, 1704, 1705, 1706, 1707, 1708, 1709, 1711, 1712, 1713, 1714, 1716, 1717, 1718, 1719, 1720, 1721, 1722, 1723, 1724, 1725, 1726, 1727, 1728, 1729, 1731, 1732, 1733, 1734, 1735, 1737, 1738, 1739, 1740, 1741, 1742, 1744, 1745, 1746, 1747, 1748, 1749, 1750, 1752, 1753, 1755, 1757, 1759, 1760, 1761, 1762, 1763, 1764, 1765, 1766, 1767, 1768, 1769, 1770, 1771, 1772, 1773, 1774, 1775, 1776, 1777, 1778, 1779, 1780, 1782, 1783, 1784, 1785, 1787, 1788, 1789, 1791, 1792, 1794, 1795, 1796, 1797, 1798, 1799, 1800, 1801, 1802, 1803, 1804, 1805, 1806, 1807, 1810, 1811, 1812, 1813, 1814, 1815, 1816, 1818, 1819, 1820, 1821, 1822, 1823, 1824, 1826, 1827, 1829, 1830, 1831, 1835, 1836, 1837, 1838, 1839, 1840, 1841, 1842, 1843, 1845, 1846, 1847, 1848, 1849, 1850, 1851, 1852, 1853, 1854, 1855, 1856, 1857, 1859, 1860, 1862, 1864, 1865, 1866, 1867, 1868, 1869, 1871, 1872, 1874, 1875, 1877, 1878, 1879, 1880, 1883, 1884, 1886, 1887, 1888, 1889, 1890, 1891, 1892, 1893, 1894, 1895, 1896, 1897, 1898, 1899, 1900, 1901, 1902, 1903, 1904, 1905, 1906, 1907, 1908, 1909, 1910, 1913, 1914, 1915, 1916, 1917, 1918, 1919, 1922, 1923, 1924, 1925, 1928, 1929, 1931, 1932, 1934, 1935, 1936, 1937, 1938, 1939, 1940, 1941, 1942, 1944, 1945, 1946, 1947, 1948, 1949, 1950, 1951, 1952, 1953, 1954, 1955, 1957, 1958, 1959, 1962, 1963, 1964, 1965, 1967, 1968, 1969, 1971, 1972, 1973, 1974, 1975, 1976, 1977, 1978, 1979, 1980, 1981, 1982, 1984, 1985, 1986, 1987, 1989, 1990, 1991, 1992, 1993, 1994, 1995, 1996, 1997, 1998]\n",
      "[   8   16   17   26   36   37   45   48   53  103  111  112  115  119\n",
      "  122  123  127  129  143  146  147  150  151  152  157  162  171  180\n",
      "  183  186  190  194  197  202  207  219  224  225  226  229  232  233\n",
      "  246  253  255  258  262  267  279  282  283  293  297  301  303  317\n",
      "  322  325  347  348  358  364  373  374  376  384  386  400  402  403\n",
      "  410  414  415  419  421  437  438  441  452  463  469  472  480  488\n",
      "  496  503  505  509  511  515  517  550  571  579  586  606  607  608\n",
      "  609  610  616  619  623  624  627  632  637  639  640  641  645  648\n",
      "  651  657  658  659  671  672  676  685  688  691  704  709  712  718\n",
      "  720  723  732  735  739  744  746  750  752  755  759  760  762  765\n",
      "  770  780  784  785  788  801  803  806  807  814  819  830  835  841\n",
      "  842  843  846  850  851  853  854  855  864  869  874  877  886  887\n",
      "  889  891  898  905  906  908  909  913  915  919  928  931  932  940\n",
      "  945  951  952  953  954  958  964  965  967  968  969  971  972  979\n",
      "  981  984  987  993 1008 1016 1017 1026 1036 1037 1045 1048 1053 1103\n",
      " 1111 1112 1115 1119 1122 1123 1127 1129 1143 1146 1147 1150 1151 1152\n",
      " 1157 1162 1171 1180 1183 1186 1190 1194 1197 1202 1207 1219 1224 1225\n",
      " 1226 1229 1232 1233 1246 1253 1255 1258 1262 1267 1279 1282 1283 1293\n",
      " 1297 1301 1303 1317 1322 1325 1347 1348 1358 1364 1373 1374 1376 1384\n",
      " 1386 1400 1402 1403 1410 1414 1415 1419 1421 1437 1438 1441 1452 1463\n",
      " 1469 1472 1480 1488 1496 1503 1505 1509 1511 1515 1517 1550 1571 1579\n",
      " 1586 1606 1607 1608 1609 1610 1616 1619 1623 1624 1627 1632 1637 1639\n",
      " 1640 1641 1645 1648 1651 1657 1658 1659 1671 1672 1676 1685 1688 1691\n",
      " 1704 1709 1712 1718 1720 1723 1732 1735 1739 1744 1746 1750 1752 1755\n",
      " 1759 1760 1762 1765 1770 1780 1784 1785 1788 1801 1803 1806 1807 1814\n",
      " 1819 1830 1835 1841 1842 1843 1846 1850 1851 1853 1854 1855 1864 1869\n",
      " 1874 1877 1886 1887 1889 1891 1898 1905 1906 1908 1909 1913 1915 1919\n",
      " 1928 1931 1932 1940 1945 1951 1952 1953 1954 1958 1964 1965 1967 1968\n",
      " 1969 1971 1972 1979 1981 1984 1987 1993] [0, 1, 2, 3, 4, 5, 6, 7, 9, 10, 11, 12, 13, 14, 15, 18, 19, 20, 21, 22, 23, 24, 25, 27, 28, 29, 30, 31, 32, 33, 34, 35, 38, 39, 40, 41, 42, 43, 44, 46, 47, 49, 50, 51, 52, 54, 55, 56, 57, 58, 59, 60, 61, 62, 63, 64, 65, 66, 67, 68, 69, 70, 71, 72, 73, 74, 75, 76, 77, 78, 79, 80, 81, 82, 83, 84, 85, 86, 87, 88, 89, 90, 91, 92, 93, 94, 95, 96, 97, 98, 99, 100, 101, 102, 104, 105, 106, 107, 108, 109, 110, 113, 114, 116, 117, 118, 120, 121, 124, 125, 126, 128, 130, 131, 132, 133, 134, 135, 136, 137, 138, 139, 140, 141, 142, 144, 145, 148, 149, 153, 154, 155, 156, 158, 159, 160, 161, 163, 164, 165, 166, 167, 168, 169, 170, 172, 173, 174, 175, 176, 177, 178, 179, 181, 182, 184, 185, 187, 188, 189, 191, 192, 193, 195, 196, 198, 199, 200, 201, 203, 204, 205, 206, 208, 209, 210, 211, 212, 213, 214, 215, 216, 217, 218, 220, 221, 222, 223, 227, 228, 230, 231, 234, 235, 236, 237, 238, 239, 240, 241, 242, 243, 244, 245, 247, 248, 249, 250, 251, 252, 254, 256, 257, 259, 260, 261, 263, 264, 265, 266, 268, 269, 270, 271, 272, 273, 274, 275, 276, 277, 278, 280, 281, 284, 285, 286, 287, 288, 289, 290, 291, 292, 294, 295, 296, 298, 299, 300, 302, 304, 305, 306, 307, 308, 309, 310, 311, 312, 313, 314, 315, 316, 318, 319, 320, 321, 323, 324, 326, 327, 328, 329, 330, 331, 332, 333, 334, 335, 336, 337, 338, 339, 340, 341, 342, 343, 344, 345, 346, 349, 350, 351, 352, 353, 354, 355, 356, 357, 359, 360, 361, 362, 363, 365, 366, 367, 368, 369, 370, 371, 372, 375, 377, 378, 379, 380, 381, 382, 383, 385, 387, 388, 389, 390, 391, 392, 393, 394, 395, 396, 397, 398, 399, 401, 404, 405, 406, 407, 408, 409, 411, 412, 413, 416, 417, 418, 420, 422, 423, 424, 425, 426, 427, 428, 429, 430, 431, 432, 433, 434, 435, 436, 439, 440, 442, 443, 444, 445, 446, 447, 448, 449, 450, 451, 453, 454, 455, 456, 457, 458, 459, 460, 461, 462, 464, 465, 466, 467, 468, 470, 471, 473, 474, 475, 476, 477, 478, 479, 481, 482, 483, 484, 485, 486, 487, 489, 490, 491, 492, 493, 494, 495, 497, 498, 499, 500, 501, 502, 504, 506, 507, 508, 510, 512, 513, 514, 516, 518, 519, 520, 521, 522, 523, 524, 525, 526, 527, 528, 529, 530, 531, 532, 533, 534, 535, 536, 537, 538, 539, 540, 541, 542, 543, 544, 545, 546, 547, 548, 549, 551, 552, 553, 554, 555, 556, 557, 558, 559, 560, 561, 562, 563, 564, 565, 566, 567, 568, 569, 570, 572, 573, 574, 575, 576, 577, 578, 580, 581, 582, 583, 584, 585, 587, 588, 589, 590, 591, 592, 593, 594, 595, 596, 597, 598, 599, 600, 601, 602, 603, 604, 605, 611, 612, 613, 614, 615, 617, 618, 620, 621, 622, 625, 626, 628, 629, 630, 631, 633, 634, 635, 636, 638, 642, 643, 644, 646, 647, 649, 650, 652, 653, 654, 655, 656, 660, 661, 662, 663, 664, 665, 666, 667, 668, 669, 670, 673, 674, 675, 677, 678, 679, 680, 681, 682, 683, 684, 686, 687, 689, 690, 692, 693, 694, 695, 696, 697, 698, 699, 700, 701, 702, 703, 705, 706, 707, 708, 710, 711, 713, 714, 715, 716, 717, 719, 721, 722, 724, 725, 726, 727, 728, 729, 730, 731, 733, 734, 736, 737, 738, 740, 741, 742, 743, 745, 747, 748, 749, 751, 753, 754, 756, 757, 758, 761, 763, 764, 766, 767, 768, 769, 771, 772, 773, 774, 775, 776, 777, 778, 779, 781, 782, 783, 786, 787, 789, 790, 791, 792, 793, 794, 795, 796, 797, 798, 799, 800, 802, 804, 805, 808, 809, 810, 811, 812, 813, 815, 816, 817, 818, 820, 821, 822, 823, 824, 825, 826, 827, 828, 829, 831, 832, 833, 834, 836, 837, 838, 839, 840, 844, 845, 847, 848, 849, 852, 856, 857, 858, 859, 860, 861, 862, 863, 865, 866, 867, 868, 870, 871, 872, 873, 875, 876, 878, 879, 880, 881, 882, 883, 884, 885, 888, 890, 892, 893, 894, 895, 896, 897, 899, 900, 901, 902, 903, 904, 907, 910, 911, 912, 914, 916, 917, 918, 920, 921, 922, 923, 924, 925, 926, 927, 929, 930, 933, 934, 935, 936, 937, 938, 939, 941, 942, 943, 944, 946, 947, 948, 949, 950, 955, 956, 957, 959, 960, 961, 962, 963, 966, 970, 973, 974, 975, 976, 977, 978, 980, 982, 983, 985, 986, 988, 989, 990, 991, 992, 994, 995, 996, 997, 998, 999, 1000, 1001, 1002, 1003, 1004, 1005, 1006, 1007, 1009, 1010, 1011, 1012, 1013, 1014, 1015, 1018, 1019, 1020, 1021, 1022, 1023, 1024, 1025, 1027, 1028, 1029, 1030, 1031, 1032, 1033, 1034, 1035, 1038, 1039, 1040, 1041, 1042, 1043, 1044, 1046, 1047, 1049, 1050, 1051, 1052, 1054, 1055, 1056, 1057, 1058, 1059, 1060, 1061, 1062, 1063, 1064, 1065, 1066, 1067, 1068, 1069, 1070, 1071, 1072, 1073, 1074, 1075, 1076, 1077, 1078, 1079, 1080, 1081, 1082, 1083, 1084, 1085, 1086, 1087, 1088, 1089, 1090, 1091, 1092, 1093, 1094, 1095, 1096, 1097, 1098, 1099, 1100, 1101, 1102, 1104, 1105, 1106, 1107, 1108, 1109, 1110, 1113, 1114, 1116, 1117, 1118, 1120, 1121, 1124, 1125, 1126, 1128, 1130, 1131, 1132, 1133, 1134, 1135, 1136, 1137, 1138, 1139, 1140, 1141, 1142, 1144, 1145, 1148, 1149, 1153, 1154, 1155, 1156, 1158, 1159, 1160, 1161, 1163, 1164, 1165, 1166, 1167, 1168, 1169, 1170, 1172, 1173, 1174, 1175, 1176, 1177, 1178, 1179, 1181, 1182, 1184, 1185, 1187, 1188, 1189, 1191, 1192, 1193, 1195, 1196, 1198, 1199, 1200, 1201, 1203, 1204, 1205, 1206, 1208, 1209, 1210, 1211, 1212, 1213, 1214, 1215, 1216, 1217, 1218, 1220, 1221, 1222, 1223, 1227, 1228, 1230, 1231, 1234, 1235, 1236, 1237, 1238, 1239, 1240, 1241, 1242, 1243, 1244, 1245, 1247, 1248, 1249, 1250, 1251, 1252, 1254, 1256, 1257, 1259, 1260, 1261, 1263, 1264, 1265, 1266, 1268, 1269, 1270, 1271, 1272, 1273, 1274, 1275, 1276, 1277, 1278, 1280, 1281, 1284, 1285, 1286, 1287, 1288, 1289, 1290, 1291, 1292, 1294, 1295, 1296, 1298, 1299, 1300, 1302, 1304, 1305, 1306, 1307, 1308, 1309, 1310, 1311, 1312, 1313, 1314, 1315, 1316, 1318, 1319, 1320, 1321, 1323, 1324, 1326, 1327, 1328, 1329, 1330, 1331, 1332, 1333, 1334, 1335, 1336, 1337, 1338, 1339, 1340, 1341, 1342, 1343, 1344, 1345, 1346, 1349, 1350, 1351, 1352, 1353, 1354, 1355, 1356, 1357, 1359, 1360, 1361, 1362, 1363, 1365, 1366, 1367, 1368, 1369, 1370, 1371, 1372, 1375, 1377, 1378, 1379, 1380, 1381, 1382, 1383, 1385, 1387, 1388, 1389, 1390, 1391, 1392, 1393, 1394, 1395, 1396, 1397, 1398, 1399, 1401, 1404, 1405, 1406, 1407, 1408, 1409, 1411, 1412, 1413, 1416, 1417, 1418, 1420, 1422, 1423, 1424, 1425, 1426, 1427, 1428, 1429, 1430, 1431, 1432, 1433, 1434, 1435, 1436, 1439, 1440, 1442, 1443, 1444, 1445, 1446, 1447, 1448, 1449, 1450, 1451, 1453, 1454, 1455, 1456, 1457, 1458, 1459, 1460, 1461, 1462, 1464, 1465, 1466, 1467, 1468, 1470, 1471, 1473, 1474, 1475, 1476, 1477, 1478, 1479, 1481, 1482, 1483, 1484, 1485, 1486, 1487, 1489, 1490, 1491, 1492, 1493, 1494, 1495, 1497, 1498, 1499, 1500, 1501, 1502, 1504, 1506, 1507, 1508, 1510, 1512, 1513, 1514, 1516, 1518, 1519, 1520, 1521, 1522, 1523, 1524, 1525, 1526, 1527, 1528, 1529, 1530, 1531, 1532, 1533, 1534, 1535, 1536, 1537, 1538, 1539, 1540, 1541, 1542, 1543, 1544, 1545, 1546, 1547, 1548, 1549, 1551, 1552, 1553, 1554, 1555, 1556, 1557, 1558, 1559, 1560, 1561, 1562, 1563, 1564, 1565, 1566, 1567, 1568, 1569, 1570, 1572, 1573, 1574, 1575, 1576, 1577, 1578, 1580, 1581, 1582, 1583, 1584, 1585, 1587, 1588, 1589, 1590, 1591, 1592, 1593, 1594, 1595, 1596, 1597, 1598, 1599, 1600, 1601, 1602, 1603, 1604, 1605, 1611, 1612, 1613, 1614, 1615, 1617, 1618, 1620, 1621, 1622, 1625, 1626, 1628, 1629, 1630, 1631, 1633, 1634, 1635, 1636, 1638, 1642, 1643, 1644, 1646, 1647, 1649, 1650, 1652, 1653, 1654, 1655, 1656, 1660, 1661, 1662, 1663, 1664, 1665, 1666, 1667, 1668, 1669, 1670, 1673, 1674, 1675, 1677, 1678, 1679, 1680, 1681, 1682, 1683, 1684, 1686, 1687, 1689, 1690, 1692, 1693, 1694, 1695, 1696, 1697, 1698, 1699, 1700, 1701, 1702, 1703, 1705, 1706, 1707, 1708, 1710, 1711, 1713, 1714, 1715, 1716, 1717, 1719, 1721, 1722, 1724, 1725, 1726, 1727, 1728, 1729, 1730, 1731, 1733, 1734, 1736, 1737, 1738, 1740, 1741, 1742, 1743, 1745, 1747, 1748, 1749, 1751, 1753, 1754, 1756, 1757, 1758, 1761, 1763, 1764, 1766, 1767, 1768, 1769, 1771, 1772, 1773, 1774, 1775, 1776, 1777, 1778, 1779, 1781, 1782, 1783, 1786, 1787, 1789, 1790, 1791, 1792, 1793, 1794, 1795, 1796, 1797, 1798, 1799, 1800, 1802, 1804, 1805, 1808, 1809, 1810, 1811, 1812, 1813, 1815, 1816, 1817, 1818, 1820, 1821, 1822, 1823, 1824, 1825, 1826, 1827, 1828, 1829, 1831, 1832, 1833, 1834, 1836, 1837, 1838, 1839, 1840, 1844, 1845, 1847, 1848, 1849, 1852, 1856, 1857, 1858, 1859, 1860, 1861, 1862, 1863, 1865, 1866, 1867, 1868, 1870, 1871, 1872, 1873, 1875, 1876, 1878, 1879, 1880, 1881, 1882, 1883, 1884, 1885, 1888, 1890, 1892, 1893, 1894, 1895, 1896, 1897, 1899, 1900, 1901, 1902, 1903, 1904, 1907, 1910, 1911, 1912, 1914, 1916, 1917, 1918, 1920, 1921, 1922, 1923, 1924, 1925, 1926, 1927, 1929, 1930, 1933, 1934, 1935, 1936, 1937, 1938, 1939, 1941, 1942, 1943, 1944, 1946, 1947, 1948, 1949, 1950, 1955, 1956, 1957, 1959, 1960, 1961, 1962, 1963, 1966, 1970, 1973, 1974, 1975, 1976, 1977, 1978, 1980, 1982, 1983, 1985, 1986, 1988, 1989, 1990, 1991, 1992, 1994, 1995, 1996, 1997, 1998, 1999]\n",
      "[   1    4   13   14   20   21   27   32   34   35   40   47   52   58\n",
      "   62   64   71   80   85   87   91   95   98   99  102  105  106  121\n",
      "  128  130  134  138  156  159  160  161  166  170  187  189  191  200\n",
      "  201  205  206  214  216  217  230  240  241  242  243  251  252  269\n",
      "  270  273  276  288  295  308  313  315  330  337  339  343  345  366\n",
      "  372  378  379  385  387  389  391  392  397  401  406  413  418  427\n",
      "  435  454  455  458  459  460  461  466  471  474  475  476  484  489\n",
      "  491  492  498  502  504  508  510  520  524  540  546  553  555  556\n",
      "  560  561  562  563  564  565  566  573  574  577  592  600  612  614\n",
      "  642  646  647  654  661  663  674  681  683  686  690  698  699  700\n",
      "  701  702  719  724  725  726  727  729  733  738  742  747  748  763\n",
      "  766  768  769  771  772  775  776  779  782  791  794  795  804  805\n",
      "  812  815  818  821  831  838  839  840  847  848  856  857  860  862\n",
      "  871  875  878  880  888  890  897  929  937  944  955  957  962  976\n",
      "  980  982  992  996 1001 1004 1013 1014 1020 1021 1027 1032 1034 1035\n",
      " 1040 1047 1052 1058 1062 1064 1071 1080 1085 1087 1091 1095 1098 1099\n",
      " 1102 1105 1106 1121 1128 1130 1134 1138 1156 1159 1160 1161 1166 1170\n",
      " 1187 1189 1191 1200 1201 1205 1206 1214 1216 1217 1230 1240 1241 1242\n",
      " 1243 1251 1252 1269 1270 1273 1276 1288 1295 1308 1313 1315 1330 1337\n",
      " 1339 1343 1345 1366 1372 1378 1379 1385 1387 1389 1391 1392 1397 1401\n",
      " 1406 1413 1418 1427 1435 1454 1455 1458 1459 1460 1461 1466 1471 1474\n",
      " 1475 1476 1484 1489 1491 1492 1498 1502 1504 1508 1510 1520 1524 1540\n",
      " 1546 1553 1555 1556 1560 1561 1562 1563 1564 1565 1566 1573 1574 1577\n",
      " 1592 1600 1612 1614 1642 1646 1647 1654 1661 1663 1674 1681 1683 1686\n",
      " 1690 1698 1699 1700 1701 1702 1719 1724 1725 1726 1727 1729 1733 1738\n",
      " 1742 1747 1748 1763 1766 1768 1769 1771 1772 1775 1776 1779 1782 1791\n",
      " 1794 1795 1804 1805 1812 1815 1818 1821 1831 1838 1839 1840 1847 1848\n",
      " 1856 1857 1860 1862 1871 1875 1878 1880 1888 1890 1897 1929 1937 1944\n",
      " 1955 1957 1962 1976 1980 1982 1992 1996] [0, 2, 3, 5, 6, 7, 8, 9, 10, 11, 12, 15, 16, 17, 18, 19, 22, 23, 24, 25, 26, 28, 29, 30, 31, 33, 36, 37, 38, 39, 41, 42, 43, 44, 45, 46, 48, 49, 50, 51, 53, 54, 55, 56, 57, 59, 60, 61, 63, 65, 66, 67, 68, 69, 70, 72, 73, 74, 75, 76, 77, 78, 79, 81, 82, 83, 84, 86, 88, 89, 90, 92, 93, 94, 96, 97, 100, 101, 103, 104, 107, 108, 109, 110, 111, 112, 113, 114, 115, 116, 117, 118, 119, 120, 122, 123, 124, 125, 126, 127, 129, 131, 132, 133, 135, 136, 137, 139, 140, 141, 142, 143, 144, 145, 146, 147, 148, 149, 150, 151, 152, 153, 154, 155, 157, 158, 162, 163, 164, 165, 167, 168, 169, 171, 172, 173, 174, 175, 176, 177, 178, 179, 180, 181, 182, 183, 184, 185, 186, 188, 190, 192, 193, 194, 195, 196, 197, 198, 199, 202, 203, 204, 207, 208, 209, 210, 211, 212, 213, 215, 218, 219, 220, 221, 222, 223, 224, 225, 226, 227, 228, 229, 231, 232, 233, 234, 235, 236, 237, 238, 239, 244, 245, 246, 247, 248, 249, 250, 253, 254, 255, 256, 257, 258, 259, 260, 261, 262, 263, 264, 265, 266, 267, 268, 271, 272, 274, 275, 277, 278, 279, 280, 281, 282, 283, 284, 285, 286, 287, 289, 290, 291, 292, 293, 294, 296, 297, 298, 299, 300, 301, 302, 303, 304, 305, 306, 307, 309, 310, 311, 312, 314, 316, 317, 318, 319, 320, 321, 322, 323, 324, 325, 326, 327, 328, 329, 331, 332, 333, 334, 335, 336, 338, 340, 341, 342, 344, 346, 347, 348, 349, 350, 351, 352, 353, 354, 355, 356, 357, 358, 359, 360, 361, 362, 363, 364, 365, 367, 368, 369, 370, 371, 373, 374, 375, 376, 377, 380, 381, 382, 383, 384, 386, 388, 390, 393, 394, 395, 396, 398, 399, 400, 402, 403, 404, 405, 407, 408, 409, 410, 411, 412, 414, 415, 416, 417, 419, 420, 421, 422, 423, 424, 425, 426, 428, 429, 430, 431, 432, 433, 434, 436, 437, 438, 439, 440, 441, 442, 443, 444, 445, 446, 447, 448, 449, 450, 451, 452, 453, 456, 457, 462, 463, 464, 465, 467, 468, 469, 470, 472, 473, 477, 478, 479, 480, 481, 482, 483, 485, 486, 487, 488, 490, 493, 494, 495, 496, 497, 499, 500, 501, 503, 505, 506, 507, 509, 511, 512, 513, 514, 515, 516, 517, 518, 519, 521, 522, 523, 525, 526, 527, 528, 529, 530, 531, 532, 533, 534, 535, 536, 537, 538, 539, 541, 542, 543, 544, 545, 547, 548, 549, 550, 551, 552, 554, 557, 558, 559, 567, 568, 569, 570, 571, 572, 575, 576, 578, 579, 580, 581, 582, 583, 584, 585, 586, 587, 588, 589, 590, 591, 593, 594, 595, 596, 597, 598, 599, 601, 602, 603, 604, 605, 606, 607, 608, 609, 610, 611, 613, 615, 616, 617, 618, 619, 620, 621, 622, 623, 624, 625, 626, 627, 628, 629, 630, 631, 632, 633, 634, 635, 636, 637, 638, 639, 640, 641, 643, 644, 645, 648, 649, 650, 651, 652, 653, 655, 656, 657, 658, 659, 660, 662, 664, 665, 666, 667, 668, 669, 670, 671, 672, 673, 675, 676, 677, 678, 679, 680, 682, 684, 685, 687, 688, 689, 691, 692, 693, 694, 695, 696, 697, 703, 704, 705, 706, 707, 708, 709, 710, 711, 712, 713, 714, 715, 716, 717, 718, 720, 721, 722, 723, 728, 730, 731, 732, 734, 735, 736, 737, 739, 740, 741, 743, 744, 745, 746, 749, 750, 751, 752, 753, 754, 755, 756, 757, 758, 759, 760, 761, 762, 764, 765, 767, 770, 773, 774, 777, 778, 780, 781, 783, 784, 785, 786, 787, 788, 789, 790, 792, 793, 796, 797, 798, 799, 800, 801, 802, 803, 806, 807, 808, 809, 810, 811, 813, 814, 816, 817, 819, 820, 822, 823, 824, 825, 826, 827, 828, 829, 830, 832, 833, 834, 835, 836, 837, 841, 842, 843, 844, 845, 846, 849, 850, 851, 852, 853, 854, 855, 858, 859, 861, 863, 864, 865, 866, 867, 868, 869, 870, 872, 873, 874, 876, 877, 879, 881, 882, 883, 884, 885, 886, 887, 889, 891, 892, 893, 894, 895, 896, 898, 899, 900, 901, 902, 903, 904, 905, 906, 907, 908, 909, 910, 911, 912, 913, 914, 915, 916, 917, 918, 919, 920, 921, 922, 923, 924, 925, 926, 927, 928, 930, 931, 932, 933, 934, 935, 936, 938, 939, 940, 941, 942, 943, 945, 946, 947, 948, 949, 950, 951, 952, 953, 954, 956, 958, 959, 960, 961, 963, 964, 965, 966, 967, 968, 969, 970, 971, 972, 973, 974, 975, 977, 978, 979, 981, 983, 984, 985, 986, 987, 988, 989, 990, 991, 993, 994, 995, 997, 998, 999, 1000, 1002, 1003, 1005, 1006, 1007, 1008, 1009, 1010, 1011, 1012, 1015, 1016, 1017, 1018, 1019, 1022, 1023, 1024, 1025, 1026, 1028, 1029, 1030, 1031, 1033, 1036, 1037, 1038, 1039, 1041, 1042, 1043, 1044, 1045, 1046, 1048, 1049, 1050, 1051, 1053, 1054, 1055, 1056, 1057, 1059, 1060, 1061, 1063, 1065, 1066, 1067, 1068, 1069, 1070, 1072, 1073, 1074, 1075, 1076, 1077, 1078, 1079, 1081, 1082, 1083, 1084, 1086, 1088, 1089, 1090, 1092, 1093, 1094, 1096, 1097, 1100, 1101, 1103, 1104, 1107, 1108, 1109, 1110, 1111, 1112, 1113, 1114, 1115, 1116, 1117, 1118, 1119, 1120, 1122, 1123, 1124, 1125, 1126, 1127, 1129, 1131, 1132, 1133, 1135, 1136, 1137, 1139, 1140, 1141, 1142, 1143, 1144, 1145, 1146, 1147, 1148, 1149, 1150, 1151, 1152, 1153, 1154, 1155, 1157, 1158, 1162, 1163, 1164, 1165, 1167, 1168, 1169, 1171, 1172, 1173, 1174, 1175, 1176, 1177, 1178, 1179, 1180, 1181, 1182, 1183, 1184, 1185, 1186, 1188, 1190, 1192, 1193, 1194, 1195, 1196, 1197, 1198, 1199, 1202, 1203, 1204, 1207, 1208, 1209, 1210, 1211, 1212, 1213, 1215, 1218, 1219, 1220, 1221, 1222, 1223, 1224, 1225, 1226, 1227, 1228, 1229, 1231, 1232, 1233, 1234, 1235, 1236, 1237, 1238, 1239, 1244, 1245, 1246, 1247, 1248, 1249, 1250, 1253, 1254, 1255, 1256, 1257, 1258, 1259, 1260, 1261, 1262, 1263, 1264, 1265, 1266, 1267, 1268, 1271, 1272, 1274, 1275, 1277, 1278, 1279, 1280, 1281, 1282, 1283, 1284, 1285, 1286, 1287, 1289, 1290, 1291, 1292, 1293, 1294, 1296, 1297, 1298, 1299, 1300, 1301, 1302, 1303, 1304, 1305, 1306, 1307, 1309, 1310, 1311, 1312, 1314, 1316, 1317, 1318, 1319, 1320, 1321, 1322, 1323, 1324, 1325, 1326, 1327, 1328, 1329, 1331, 1332, 1333, 1334, 1335, 1336, 1338, 1340, 1341, 1342, 1344, 1346, 1347, 1348, 1349, 1350, 1351, 1352, 1353, 1354, 1355, 1356, 1357, 1358, 1359, 1360, 1361, 1362, 1363, 1364, 1365, 1367, 1368, 1369, 1370, 1371, 1373, 1374, 1375, 1376, 1377, 1380, 1381, 1382, 1383, 1384, 1386, 1388, 1390, 1393, 1394, 1395, 1396, 1398, 1399, 1400, 1402, 1403, 1404, 1405, 1407, 1408, 1409, 1410, 1411, 1412, 1414, 1415, 1416, 1417, 1419, 1420, 1421, 1422, 1423, 1424, 1425, 1426, 1428, 1429, 1430, 1431, 1432, 1433, 1434, 1436, 1437, 1438, 1439, 1440, 1441, 1442, 1443, 1444, 1445, 1446, 1447, 1448, 1449, 1450, 1451, 1452, 1453, 1456, 1457, 1462, 1463, 1464, 1465, 1467, 1468, 1469, 1470, 1472, 1473, 1477, 1478, 1479, 1480, 1481, 1482, 1483, 1485, 1486, 1487, 1488, 1490, 1493, 1494, 1495, 1496, 1497, 1499, 1500, 1501, 1503, 1505, 1506, 1507, 1509, 1511, 1512, 1513, 1514, 1515, 1516, 1517, 1518, 1519, 1521, 1522, 1523, 1525, 1526, 1527, 1528, 1529, 1530, 1531, 1532, 1533, 1534, 1535, 1536, 1537, 1538, 1539, 1541, 1542, 1543, 1544, 1545, 1547, 1548, 1549, 1550, 1551, 1552, 1554, 1557, 1558, 1559, 1567, 1568, 1569, 1570, 1571, 1572, 1575, 1576, 1578, 1579, 1580, 1581, 1582, 1583, 1584, 1585, 1586, 1587, 1588, 1589, 1590, 1591, 1593, 1594, 1595, 1596, 1597, 1598, 1599, 1601, 1602, 1603, 1604, 1605, 1606, 1607, 1608, 1609, 1610, 1611, 1613, 1615, 1616, 1617, 1618, 1619, 1620, 1621, 1622, 1623, 1624, 1625, 1626, 1627, 1628, 1629, 1630, 1631, 1632, 1633, 1634, 1635, 1636, 1637, 1638, 1639, 1640, 1641, 1643, 1644, 1645, 1648, 1649, 1650, 1651, 1652, 1653, 1655, 1656, 1657, 1658, 1659, 1660, 1662, 1664, 1665, 1666, 1667, 1668, 1669, 1670, 1671, 1672, 1673, 1675, 1676, 1677, 1678, 1679, 1680, 1682, 1684, 1685, 1687, 1688, 1689, 1691, 1692, 1693, 1694, 1695, 1696, 1697, 1703, 1704, 1705, 1706, 1707, 1708, 1709, 1710, 1711, 1712, 1713, 1714, 1715, 1716, 1717, 1718, 1720, 1721, 1722, 1723, 1728, 1730, 1731, 1732, 1734, 1735, 1736, 1737, 1739, 1740, 1741, 1743, 1744, 1745, 1746, 1749, 1750, 1751, 1752, 1753, 1754, 1755, 1756, 1757, 1758, 1759, 1760, 1761, 1762, 1764, 1765, 1767, 1770, 1773, 1774, 1777, 1778, 1780, 1781, 1783, 1784, 1785, 1786, 1787, 1788, 1789, 1790, 1792, 1793, 1796, 1797, 1798, 1799, 1800, 1801, 1802, 1803, 1806, 1807, 1808, 1809, 1810, 1811, 1813, 1814, 1816, 1817, 1819, 1820, 1822, 1823, 1824, 1825, 1826, 1827, 1828, 1829, 1830, 1832, 1833, 1834, 1835, 1836, 1837, 1841, 1842, 1843, 1844, 1845, 1846, 1849, 1850, 1851, 1852, 1853, 1854, 1855, 1858, 1859, 1861, 1863, 1864, 1865, 1866, 1867, 1868, 1869, 1870, 1872, 1873, 1874, 1876, 1877, 1879, 1881, 1882, 1883, 1884, 1885, 1886, 1887, 1889, 1891, 1892, 1893, 1894, 1895, 1896, 1898, 1899, 1900, 1901, 1902, 1903, 1904, 1905, 1906, 1907, 1908, 1909, 1910, 1911, 1912, 1913, 1914, 1915, 1916, 1917, 1918, 1919, 1920, 1921, 1922, 1923, 1924, 1925, 1926, 1927, 1928, 1930, 1931, 1932, 1933, 1934, 1935, 1936, 1938, 1939, 1940, 1941, 1942, 1943, 1945, 1946, 1947, 1948, 1949, 1950, 1951, 1952, 1953, 1954, 1956, 1958, 1959, 1960, 1961, 1963, 1964, 1965, 1966, 1967, 1968, 1969, 1970, 1971, 1972, 1973, 1974, 1975, 1977, 1978, 1979, 1981, 1983, 1984, 1985, 1986, 1987, 1988, 1989, 1990, 1991, 1993, 1994, 1995, 1997, 1998, 1999]\n"
     ]
    }
   ],
   "source": [
    "kf = KFold(n_splits=5, random_state=42, shuffle=True)\n",
    "\n",
    "for n_fold, (_, val_index) in enumerate(kf.split(df_2000[:len(df_2000)//2])):\n",
    "    after_1000 = np.asarray([(i + 1000) for i in val_index])\n",
    "    val_index = np.concatenate((val_index, after_1000))\n",
    "    train_index = list(set(list(range(0, 2000))) - set(val_index))\n",
    "    print(val_index, train_index)"
   ]
  },
  {
   "cell_type": "code",
   "execution_count": 13,
   "metadata": {},
   "outputs": [],
   "source": [
    "def execute_model(model):\n",
    "    \n",
    "    scores_f1 = []\n",
    "    \n",
    "    pipe = make_pipeline(TfidfVectorizer(), StandardScaler(with_mean=False), model)\n",
    "    kf = KFold(n_splits=5, random_state=42, shuffle=True)      \n",
    "    length = len(df)//2\n",
    "\n",
    "    for n_fold, (_, val_i) in enumerate(kf.split(range(length))):\n",
    "        \n",
    "        after_half = np.asarray([(i + length) for i in val_i])\n",
    "        val_index = np.concatenate((val_i, after_half))\n",
    "        train_index = list(set(list(range(0, len(df)))) - set(val_index))\n",
    "\n",
    "        X_train = df.iloc[train_index]['title']\n",
    "        y_train = df.iloc[train_index]['topic']\n",
    "\n",
    "        #X_valid = df.iloc[val_index]['title']\n",
    "        #y_valid = df.iloc[val_index]['topic']\n",
    "        \n",
    "        X_valid = test['title']\n",
    "        y_valid = test['topic']\n",
    "\n",
    "        m = pipe.fit(X_train, y_train)\n",
    "        y_pred = m.predict(X_valid)\n",
    "\n",
    "        f1 = f1_score(y_valid, y_pred, average='macro')        \n",
    "        scores_f1.append(f1)\n",
    "        \n",
    "    print(np.mean(scores_f1), '\\t', np.std(scores_f1))\n",
    "    \n",
    "    return pipe, np.mean(scores_f1), np.std(scores_f1)"
   ]
  },
  {
   "cell_type": "code",
   "execution_count": 14,
   "metadata": {},
   "outputs": [],
   "source": [
    "datasets = [df_1000, df_2000, df_hel, df_det]"
   ]
  },
  {
   "cell_type": "code",
   "execution_count": 15,
   "metadata": {},
   "outputs": [
    {
     "name": "stdout",
     "output_type": "stream",
     "text": [
      "0.375308861677649 \t 0.005710436339228631\n",
      "0.37556672552624154 \t 0.008424761957904063\n",
      "0.3759858448100732 \t 0.011372433472388987\n",
      "0.4030679328801409 \t 0.0081604324598135\n"
     ]
    }
   ],
   "source": [
    "lsvc_f1s = []\n",
    "lsvc_stds = []\n",
    "\n",
    "for dataset in datasets:\n",
    "    \n",
    "    df = copy.deepcopy(dataset)\n",
    "    df.title = [clean_text(text) for text in df.title]\n",
    "    \n",
    "    lsvc_pipe, lsvc_f1_mean, lsvc_std = execute_model(LinearSVC())\n",
    "    lsvc_f1s.append(lsvc_f1_mean)\n",
    "    lsvc_stds.append(lsvc_std)\n",
    "\n",
    "lsvc_f1s =  [f\"{num:.3f}\" for num in lsvc_f1s]\n",
    "lsvc_stds =  [f\"{num:.3f}\" for num in lsvc_stds]"
   ]
  },
  {
   "cell_type": "code",
   "execution_count": 16,
   "metadata": {},
   "outputs": [
    {
     "name": "stdout",
     "output_type": "stream",
     "text": [
      "0.21541812894857051 \t 0.01215149703103004\n",
      "0.24256316606780146 \t 0.007568455666752966\n",
      "0.2747750060055075 \t 0.010181909563199148\n",
      "0.26073244241426036 \t 0.00697752835874629\n"
     ]
    }
   ],
   "source": [
    "rf_f1s = []\n",
    "rf_stds = []\n",
    "\n",
    "for dataset in datasets:\n",
    "    \n",
    "    df = copy.deepcopy(dataset)    \n",
    "    df.title = [clean_text(text) for text in df.title]\n",
    "    \n",
    "    rf_pipe, rf_f1_mean, rf_std = execute_model(RandomForestClassifier())\n",
    "    rf_f1s.append(rf_f1_mean)\n",
    "    rf_stds.append(rf_std)\n",
    "    \n",
    "rf_f1s =  [f\"{num:.3f}\" for num in rf_f1s]\n",
    "rf_stds =  [f\"{num:.3f}\" for num in rf_stds]"
   ]
  },
  {
   "cell_type": "code",
   "execution_count": 17,
   "metadata": {},
   "outputs": [
    {
     "name": "stdout",
     "output_type": "stream",
     "text": [
      "0.35128940875229536 \t 0.0027247058054979756\n",
      "0.3521431827489547 \t 0.008555590839107553\n",
      "0.3561992614893481 \t 0.009878341341819998\n",
      "0.37384966108073003 \t 0.005947998252322688\n"
     ]
    }
   ],
   "source": [
    "lr_f1s = []\n",
    "lr_stds = []\n",
    "\n",
    "for dataset in datasets:\n",
    "    \n",
    "    df = copy.deepcopy(dataset)   \n",
    "    df.title = [clean_text(text) for text in df.title]\n",
    "    \n",
    "    lr_pipe, lr_f1_mean, lr_std = execute_model(LogisticRegression())\n",
    "    lr_f1s.append(lr_f1_mean)\n",
    "    lr_stds.append(lr_std)\n",
    "    \n",
    "lr_f1s =  [f\"{num:.3f}\" for num in lr_f1s]\n",
    "lr_stds =  [f\"{num:.3f}\" for num in lr_stds]"
   ]
  },
  {
   "cell_type": "code",
   "execution_count": 18,
   "metadata": {},
   "outputs": [
    {
     "name": "stdout",
     "output_type": "stream",
     "text": [
      "\n",
      "F1-Score Tablosu:\n"
     ]
    },
    {
     "data": {
      "text/html": [
       "<div>\n",
       "<style scoped>\n",
       "    .dataframe tbody tr th:only-of-type {\n",
       "        vertical-align: middle;\n",
       "    }\n",
       "\n",
       "    .dataframe tbody tr th {\n",
       "        vertical-align: top;\n",
       "    }\n",
       "\n",
       "    .dataframe thead th {\n",
       "        text-align: right;\n",
       "    }\n",
       "</style>\n",
       "<table border=\"1\" class=\"dataframe\">\n",
       "  <thead>\n",
       "    <tr style=\"text-align: right;\">\n",
       "      <th></th>\n",
       "      <th>Linear_SVC</th>\n",
       "      <th>Random_forest</th>\n",
       "      <th>Logistic_regression</th>\n",
       "    </tr>\n",
       "    <tr>\n",
       "      <th>Dataset</th>\n",
       "      <th></th>\n",
       "      <th></th>\n",
       "      <th></th>\n",
       "    </tr>\n",
       "  </thead>\n",
       "  <tbody>\n",
       "    <tr>\n",
       "      <th>ds_1000</th>\n",
       "      <td>0.375</td>\n",
       "      <td>0.215</td>\n",
       "      <td>0.351</td>\n",
       "    </tr>\n",
       "    <tr>\n",
       "      <th>ds_1000_copy</th>\n",
       "      <td>0.376</td>\n",
       "      <td>0.243</td>\n",
       "      <td>0.352</td>\n",
       "    </tr>\n",
       "    <tr>\n",
       "      <th>ds_1000_back</th>\n",
       "      <td>0.376</td>\n",
       "      <td>0.275</td>\n",
       "      <td>0.356</td>\n",
       "    </tr>\n",
       "    <tr>\n",
       "      <th>ds_1000_det</th>\n",
       "      <td>0.403</td>\n",
       "      <td>0.261</td>\n",
       "      <td>0.374</td>\n",
       "    </tr>\n",
       "  </tbody>\n",
       "</table>\n",
       "</div>"
      ],
      "text/plain": [
       "             Linear_SVC Random_forest Logistic_regression\n",
       "Dataset                                                  \n",
       "ds_1000           0.375         0.215               0.351\n",
       "ds_1000_copy      0.376         0.243               0.352\n",
       "ds_1000_back      0.376         0.275               0.356\n",
       "ds_1000_det       0.403         0.261               0.374"
      ]
     },
     "execution_count": 18,
     "metadata": {},
     "output_type": "execute_result"
    }
   ],
   "source": [
    "print(\"\\nF1-Score Table:\")\n",
    "f1_df = {'Dataset': ['ds_1000', 'ds_1000_copy', 'ds_1000_back', 'ds_1000_det'], \n",
    "             'Linear_SVC': lsvc_f1s, \n",
    "             'Random_forest': rf_f1s, \n",
    "             'Logistic_regression': lr_f1s}\n",
    "\n",
    "f1_df = pd.DataFrame.from_dict(f1_df).set_index('Dataset')\n",
    "f1_df"
   ]
  },
  {
   "cell_type": "code",
   "execution_count": 19,
   "metadata": {},
   "outputs": [
    {
     "name": "stdout",
     "output_type": "stream",
     "text": [
      "\n",
      "Standart Sapma Tablosu:\n"
     ]
    },
    {
     "data": {
      "text/html": [
       "<div>\n",
       "<style scoped>\n",
       "    .dataframe tbody tr th:only-of-type {\n",
       "        vertical-align: middle;\n",
       "    }\n",
       "\n",
       "    .dataframe tbody tr th {\n",
       "        vertical-align: top;\n",
       "    }\n",
       "\n",
       "    .dataframe thead th {\n",
       "        text-align: right;\n",
       "    }\n",
       "</style>\n",
       "<table border=\"1\" class=\"dataframe\">\n",
       "  <thead>\n",
       "    <tr style=\"text-align: right;\">\n",
       "      <th></th>\n",
       "      <th>Linear_SVC</th>\n",
       "      <th>Random_forest</th>\n",
       "      <th>Logistic_regression</th>\n",
       "    </tr>\n",
       "    <tr>\n",
       "      <th>Dataset</th>\n",
       "      <th></th>\n",
       "      <th></th>\n",
       "      <th></th>\n",
       "    </tr>\n",
       "  </thead>\n",
       "  <tbody>\n",
       "    <tr>\n",
       "      <th>ds_1000</th>\n",
       "      <td>0.006</td>\n",
       "      <td>0.012</td>\n",
       "      <td>0.003</td>\n",
       "    </tr>\n",
       "    <tr>\n",
       "      <th>ds_1000_copy</th>\n",
       "      <td>0.008</td>\n",
       "      <td>0.008</td>\n",
       "      <td>0.009</td>\n",
       "    </tr>\n",
       "    <tr>\n",
       "      <th>ds_1000_back</th>\n",
       "      <td>0.011</td>\n",
       "      <td>0.010</td>\n",
       "      <td>0.010</td>\n",
       "    </tr>\n",
       "    <tr>\n",
       "      <th>ds_1000_det</th>\n",
       "      <td>0.008</td>\n",
       "      <td>0.007</td>\n",
       "      <td>0.006</td>\n",
       "    </tr>\n",
       "  </tbody>\n",
       "</table>\n",
       "</div>"
      ],
      "text/plain": [
       "             Linear_SVC Random_forest Logistic_regression\n",
       "Dataset                                                  \n",
       "ds_1000           0.006         0.012               0.003\n",
       "ds_1000_copy      0.008         0.008               0.009\n",
       "ds_1000_back      0.011         0.010               0.010\n",
       "ds_1000_det       0.008         0.007               0.006"
      ]
     },
     "execution_count": 19,
     "metadata": {},
     "output_type": "execute_result"
    }
   ],
   "source": [
    "print(\"\\nStandard Deviation Table:\")\n",
    "std_df = {'Dataset': ['ds_1000', 'ds_1000_copy', 'ds_1000_back', 'ds_1000_det'], \n",
    "             'Linear_SVC': lsvc_stds, \n",
    "             'Random_forest': rf_stds, \n",
    "             'Logistic_regression': lr_stds}\n",
    "\n",
    "std_df = pd.DataFrame.from_dict(std_df).set_index('Dataset')\n",
    "std_df"
   ]
  },
  {
   "cell_type": "code",
   "execution_count": null,
   "metadata": {},
   "outputs": [],
   "source": []
  }
 ],
 "metadata": {
  "kernelspec": {
   "display_name": "Python 3",
   "language": "python",
   "name": "python3"
  },
  "language_info": {
   "codemirror_mode": {
    "name": "ipython",
    "version": 3
   },
   "file_extension": ".py",
   "mimetype": "text/x-python",
   "name": "python",
   "nbconvert_exporter": "python",
   "pygments_lexer": "ipython3",
   "version": "3.8.5"
  },
  "papermill": {
   "default_parameters": {},
   "duration": 250.10437,
   "end_time": "2022-12-20T17:40:14.329752",
   "environment_variables": {},
   "exception": null,
   "input_path": "__notebook__.ipynb",
   "output_path": "__notebook__.ipynb",
   "parameters": {},
   "start_time": "2022-12-20T17:36:04.225382",
   "version": "2.3.4"
  }
 },
 "nbformat": 4,
 "nbformat_minor": 5
}
