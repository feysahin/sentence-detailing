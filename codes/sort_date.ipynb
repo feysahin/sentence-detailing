{
 "cells": [
  {
   "cell_type": "code",
   "execution_count": 13,
   "metadata": {},
   "outputs": [],
   "source": [
    "import pandas as pd\n",
    "import numpy as np\n",
    "import seaborn as sn\n",
    "import matplotlib.pyplot as plt\n",
    "from sklearn.model_selection import train_test_split"
   ]
  },
  {
   "cell_type": "code",
   "execution_count": 20,
   "metadata": {},
   "outputs": [],
   "source": [
    "df = pd.read_csv('tr-news.csv', sep='\\t')"
   ]
  },
  {
   "cell_type": "code",
   "execution_count": 21,
   "metadata": {},
   "outputs": [
    {
     "data": {
      "text/plain": [
       "307562"
      ]
     },
     "execution_count": 21,
     "metadata": {},
     "output_type": "execute_result"
    }
   ],
   "source": [
    "len(df)"
   ]
  },
  {
   "cell_type": "code",
   "execution_count": 22,
   "metadata": {},
   "outputs": [
    {
     "data": {
      "text/plain": [
       "Int64Index([2006, 2006, 2006, 2006, 2006, 2006, 2006, 2006, 2006, 2006,\n",
       "            ...\n",
       "            2019, 2019, 2019, 2019, 2019, 2019, 2019, 2019, 2019, 2019],\n",
       "           dtype='int64', name='date', length=307562)"
      ]
     },
     "execution_count": 22,
     "metadata": {},
     "output_type": "execute_result"
    }
   ],
   "source": [
    "pd.DatetimeIndex(df['date']).year"
   ]
  },
  {
   "cell_type": "code",
   "execution_count": 23,
   "metadata": {},
   "outputs": [
    {
     "data": {
      "text/plain": [
       "Int64Index([2006, 2006, 2006, 2006, 2006, 2006, 2006, 2006, 2006, 2006,\n",
       "            ...\n",
       "            2019, 2019, 2019, 2019, 2019, 2019, 2019, 2019, 2019, 2019],\n",
       "           dtype='int64', name='date', length=307562)"
      ]
     },
     "execution_count": 23,
     "metadata": {},
     "output_type": "execute_result"
    }
   ],
   "source": [
    "# \"year\" information for the distribution by the year\n",
    "dates = pd.DatetimeIndex(df['date']).year\n",
    "dates"
   ]
  },
  {
   "cell_type": "code",
   "execution_count": 24,
   "metadata": {},
   "outputs": [
    {
     "data": {
      "text/plain": [
       "[2006,\n",
       " 2007,\n",
       " 2008,\n",
       " 2009,\n",
       " 2010,\n",
       " 2011,\n",
       " 2012,\n",
       " 2013,\n",
       " 2014,\n",
       " 2015,\n",
       " 2016,\n",
       " 2017,\n",
       " 2018,\n",
       " 2019]"
      ]
     },
     "execution_count": 24,
     "metadata": {},
     "output_type": "execute_result"
    }
   ],
   "source": [
    "dates_unique = dates.unique().tolist()\n",
    "dates_unique"
   ]
  },
  {
   "cell_type": "code",
   "execution_count": 25,
   "metadata": {},
   "outputs": [
    {
     "data": {
      "text/plain": [
       "[93,\n",
       " 239,\n",
       " 801,\n",
       " 13631,\n",
       " 15007,\n",
       " 16675,\n",
       " 17434,\n",
       " 17615,\n",
       " 25139,\n",
       " 30476,\n",
       " 38157,\n",
       " 39788,\n",
       " 44625,\n",
       " 47882]"
      ]
     },
     "execution_count": 25,
     "metadata": {},
     "output_type": "execute_result"
    }
   ],
   "source": [
    "dates_freq = dates.value_counts().tolist()\n",
    "dates_freq.reverse()\n",
    "dates_freq"
   ]
  },
  {
   "cell_type": "code",
   "execution_count": 26,
   "metadata": {},
   "outputs": [
    {
     "data": {
      "text/plain": [
       "14.509269675707662"
      ]
     },
     "execution_count": 26,
     "metadata": {},
     "output_type": "execute_result"
    }
   ],
   "source": [
    "# an example for the percentage of a year\n",
    "count_2019 = df[2019 == pd.DatetimeIndex(df['date']).year]\n",
    "(len(count_2019) / len(df)) *100"
   ]
  },
  {
   "cell_type": "code",
   "execution_count": 27,
   "metadata": {},
   "outputs": [
    {
     "data": {
      "text/plain": [
       "{2006: 0.030237805710718487,\n",
       " 2007: 0.07770790929958837,\n",
       " 2008: 0.260435294347156,\n",
       " 2009: 5.421671077701406,\n",
       " 2010: 8.173636535072603,\n",
       " 2011: 5.727300511766733,\n",
       " 2012: 5.668450588824367,\n",
       " 2013: 4.4319519316430505,\n",
       " 2014: 4.879341401083359,\n",
       " 2015: 9.908896417632867,\n",
       " 2016: 12.406279059181562,\n",
       " 2017: 12.936578641054485,\n",
       " 2018: 15.568243150974437,\n",
       " 2019: 14.509269675707662}"
      ]
     },
     "execution_count": 27,
     "metadata": {},
     "output_type": "execute_result"
    }
   ],
   "source": [
    "# finding the percentages of every year\n",
    "years_per = {}\n",
    "years = []\n",
    "freqs = []\n",
    "for year in dates_unique:\n",
    "    count_year = df[year == pd.DatetimeIndex(df['date']).year]\n",
    "    years_per[year] = (len(count_year) / len(df)) *100\n",
    "    years.append(year)\n",
    "    freqs.append(years_per[year])\n",
    "    \n",
    "years_per"
   ]
  },
  {
   "cell_type": "code",
   "execution_count": 28,
   "metadata": {},
   "outputs": [
    {
     "data": {
      "image/png": "[encoded data removed]",
      "text/plain": [
       "<Figure size 432x288 with 1 Axes>"
      ]
     },
     "metadata": {},
     "output_type": "display_data"
    }
   ],
   "source": [
    "# distribution by year\n",
    "colors = sn.color_palette('pastel')[0:5]\n",
    "plt.pie(freqs, labels = years, colors = colors, autopct='%.0f%%')\n",
    "plt.show()"
   ]
  },
  {
   "cell_type": "code",
   "execution_count": 30,
   "metadata": {},
   "outputs": [
    {
     "data": {
      "text/html": [
       "<div>\n",
       "<style scoped>\n",
       "    .dataframe tbody tr th:only-of-type {\n",
       "        vertical-align: middle;\n",
       "    }\n",
       "\n",
       "    .dataframe tbody tr th {\n",
       "        vertical-align: top;\n",
       "    }\n",
       "\n",
       "    .dataframe thead th {\n",
       "        text-align: right;\n",
       "    }\n",
       "</style>\n",
       "<table border=\"1\" class=\"dataframe\">\n",
       "  <thead>\n",
       "    <tr style=\"text-align: right;\">\n",
       "      <th></th>\n",
       "      <th>title</th>\n",
       "      <th>abstract</th>\n",
       "      <th>date</th>\n",
       "    </tr>\n",
       "  </thead>\n",
       "  <tbody>\n",
       "    <tr>\n",
       "      <th>0</th>\n",
       "      <td>AKP 'Babanı sustur' dedi</td>\n",
       "      <td>KKTC'de dağılan koalisyonun ortağı lideri Denk...</td>\n",
       "      <td>2006-01-10 11:34:00</td>\n",
       "    </tr>\n",
       "    <tr>\n",
       "      <th>1</th>\n",
       "      <td>Dikkat! 'Süper Virüsler' çok tehlikeli</td>\n",
       "      <td>İngiliz uzmanlar, grip ilaçlarının, tedavisi i...</td>\n",
       "      <td>2006-01-10 19:02:00</td>\n",
       "    </tr>\n",
       "    <tr>\n",
       "      <th>2</th>\n",
       "      <td>Bu filmde çıplaklık yarım erotizm tam</td>\n",
       "      <td>'Eve Dönüş' filmi sadece işkence değil, ateşli...</td>\n",
       "      <td>2006-01-11 00:10:00</td>\n",
       "    </tr>\n",
       "    <tr>\n",
       "      <th>3</th>\n",
       "      <td>Dita soyundu kadınlar çığlık attı</td>\n",
       "      <td>BU sene modacı Zac Posen ile çalışan Vakko, bu...</td>\n",
       "      <td>2006-02-10 22:55:00</td>\n",
       "    </tr>\n",
       "    <tr>\n",
       "      <th>4</th>\n",
       "      <td>Özel jet satışları patladı</td>\n",
       "      <td>Bombalama ve terör olayları uçuşlarda özel jet...</td>\n",
       "      <td>2006-03-10 12:18:00</td>\n",
       "    </tr>\n",
       "  </tbody>\n",
       "</table>\n",
       "</div>"
      ],
      "text/plain": [
       "                                    title  \\\n",
       "0                AKP 'Babanı sustur' dedi   \n",
       "1  Dikkat! 'Süper Virüsler' çok tehlikeli   \n",
       "2   Bu filmde çıplaklık yarım erotizm tam   \n",
       "3       Dita soyundu kadınlar çığlık attı   \n",
       "4              Özel jet satışları patladı   \n",
       "\n",
       "                                            abstract                 date  \n",
       "0  KKTC'de dağılan koalisyonun ortağı lideri Denk...  2006-01-10 11:34:00  \n",
       "1  İngiliz uzmanlar, grip ilaçlarının, tedavisi i...  2006-01-10 19:02:00  \n",
       "2  'Eve Dönüş' filmi sadece işkence değil, ateşli...  2006-01-11 00:10:00  \n",
       "3  BU sene modacı Zac Posen ile çalışan Vakko, bu...  2006-02-10 22:55:00  \n",
       "4  Bombalama ve terör olayları uçuşlarda özel jet...  2006-03-10 12:18:00  "
      ]
     },
     "execution_count": 30,
     "metadata": {},
     "output_type": "execute_result"
    }
   ],
   "source": [
    "df = df[['title', 'abstract', 'date']]\n",
    "df.to_csv('df_date.csv', sep='\\t', encoding='utf-8')"
   ]
  },
  {
   "attachments": {},
   "cell_type": "markdown",
   "metadata": {},
   "source": [
    "## Split train-test"
   ]
  },
  {
   "cell_type": "code",
   "execution_count": null,
   "metadata": {},
   "outputs": [],
   "source": [
    "df = pd.read_csv('df_date.csv', sep='\\t')"
   ]
  },
  {
   "cell_type": "code",
   "execution_count": null,
   "metadata": {},
   "outputs": [],
   "source": [
    "df_train = df_trnews[:len(df)//10 * 9]\n",
    "df_test = df_trnews[len(df)//10 * 9:]"
   ]
  },
  {
   "cell_type": "code",
   "execution_count": null,
   "metadata": {},
   "outputs": [],
   "source": [
    "df_train.to_csv(\"train_100.csv\", sep=\"\\t\", encoding=\"utf-8\")\n",
    "df_test.to_csv(\"test_10.csv\", sep=\"\\t\", encoding=\"utf-8\")"
   ]
  },
  {
   "cell_type": "markdown",
   "metadata": {},
   "source": [
    "### New partitions"
   ]
  },
  {
   "cell_type": "markdown",
   "metadata": {},
   "source": [
    "#### %50"
   ]
  },
  {
   "cell_type": "code",
   "execution_count": null,
   "metadata": {},
   "outputs": [
    {
     "data": {
      "text/plain": [
       "(138402, 4)"
      ]
     },
     "metadata": {},
     "output_type": "display_data"
    }
   ],
   "source": [
    "train_50, rest = train_test_split(df_train, test_size=0.5, shuffle=True)\n",
    "train_50.to_csv(\"train_50.csv\", sep=\"\\t\", encoding=\"utf-8\")\n",
    "train_50.shape"
   ]
  },
  {
   "cell_type": "markdown",
   "metadata": {},
   "source": [
    "#### %25"
   ]
  },
  {
   "cell_type": "code",
   "execution_count": null,
   "metadata": {},
   "outputs": [
    {
     "data": {
      "text/plain": [
       "(69201, 4)"
      ]
     },
     "metadata": {},
     "output_type": "display_data"
    }
   ],
   "source": [
    "train_25, rest = train_test_split(train_50, test_size=0.5, shuffle=True)\n",
    "train_25.to_csv(\"train_25.csv\", sep=\"\\t\", encoding=\"utf-8\")\n",
    "train_25.shape"
   ]
  },
  {
   "cell_type": "markdown",
   "metadata": {},
   "source": [
    "#### %12.5"
   ]
  },
  {
   "cell_type": "code",
   "execution_count": null,
   "metadata": {},
   "outputs": [
    {
     "data": {
      "text/plain": [
       "(34600, 4)"
      ]
     },
     "metadata": {},
     "output_type": "display_data"
    }
   ],
   "source": [
    "train_12_5, rest = train_test_split(train_25, test_size=0.5, shuffle=True)\n",
    "train_12_5.to_csv(\"train_12_5.csv\", sep=\"\\t\", encoding=\"utf-8\")\n",
    "train_12_5.shape"
   ]
  },
  {
   "cell_type": "markdown",
   "metadata": {},
   "source": [
    "#### %6.25"
   ]
  },
  {
   "cell_type": "code",
   "execution_count": null,
   "metadata": {},
   "outputs": [],
   "source": [
    "train_6_25, rest = train_test_split(train_12_5, test_size=0.5, shuffle=True)\n",
    "train_6_25.to_csv(\"train_6_25.csv\", sep=\"\\t\", encoding=\"utf-8\")\n",
    "train_6_25.shape"
   ]
  },
  {
   "cell_type": "code",
   "execution_count": null,
   "metadata": {},
   "outputs": [],
   "source": []
  }
 ],
 "metadata": {
  "kernelspec": {
   "display_name": "Python 3",
   "language": "python",
   "name": "python3"
  },
  "language_info": {
   "codemirror_mode": {
    "name": "ipython",
    "version": 3
   },
   "file_extension": ".py",
   "mimetype": "text/x-python",
   "name": "python",
   "nbconvert_exporter": "python",
   "pygments_lexer": "ipython3",
   "version": "3.8.5"
  }
 },
 "nbformat": 4,
 "nbformat_minor": 4
}
