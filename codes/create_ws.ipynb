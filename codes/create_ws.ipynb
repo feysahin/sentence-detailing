{
 "cells": [
  {
   "cell_type": "code",
   "execution_count": 1,
   "metadata": {},
   "outputs": [],
   "source": [
    "import pandas as pd\n",
    "import numpy as np\n",
    "import random\n",
    "import re\n",
    "from sklearn.model_selection import train_test_split"
   ]
  },
  {
   "cell_type": "code",
   "execution_count": 2,
   "metadata": {},
   "outputs": [
    {
     "data": {
      "text/plain": [
       "(17300, 6)"
      ]
     },
     "execution_count": 2,
     "metadata": {},
     "output_type": "execute_result"
    }
   ],
   "source": [
    "train = pd.read_csv(\"train_6_25.csv\", sep=\"\\t\", encoding=\"utf-8\")\n",
    "train.shape"
   ]
  },
  {
   "cell_type": "code",
   "execution_count": 4,
   "metadata": {},
   "outputs": [
    {
     "data": {
      "text/plain": [
       "0        Hayvanların dövüştürülüp, buna ilişkin görsell...\n",
       "1        Hollywood yıldızı aktör Johnny Depp'in eşi Amb...\n",
       "2        Vişnelik Mahallesi Seda Sokağı'nda bir apartma...\n",
       "3        NATO Genel Sekreteri Anders Fogh Rasmussen, Su...\n",
       "4        ile bilinen Richard Moore'un paylaştığı fotoğr...\n",
       "                               ...                        \n",
       "17295    CHP Genel Başkanı Kemal Kılıçdaroğlu, Ankara K...\n",
       "17296    Sosyalist Demokrasi Partisi (SDP) üyesi bir gr...\n",
       "17297    Teknik direktör Danny Blind tarafından belirle...\n",
       "17298    People dergisinin haberine göre, sevgilisinin ...\n",
       "17299    İstanbul Güngören'de anne-kız sokak ortasında ...\n",
       "Name: content, Length: 17300, dtype: object"
      ]
     },
     "execution_count": 4,
     "metadata": {},
     "output_type": "execute_result"
    }
   ],
   "source": [
    "contents = train.content\n",
    "contents"
   ]
  },
  {
   "cell_type": "code",
   "execution_count": 5,
   "metadata": {},
   "outputs": [],
   "source": [
    "from trtokenizer.tr_tokenizer import SentenceTokenizer, WordTokenizer\n",
    "sentence_tokenizer_object = SentenceTokenizer()\n",
    "word_tokenizer_object = WordTokenizer()"
   ]
  },
  {
   "cell_type": "code",
   "execution_count": 6,
   "metadata": {},
   "outputs": [],
   "source": [
    "all_sentences = []\n",
    "\n",
    "for text in contents:\n",
    "    sentences = sentence_tokenizer_object.tokenize(text)\n",
    "    \n",
    "    for sentence in sentences:\n",
    "        if 10 >= len(word_tokenizer_object.tokenize(re.sub(r'[^\\w\\s]', '', sentence))) >= 5:\n",
    "            all_sentences.append(sentence)"
   ]
  },
  {
   "cell_type": "code",
   "execution_count": 7,
   "metadata": {},
   "outputs": [
    {
     "data": {
      "text/plain": [
       "78698"
      ]
     },
     "execution_count": 7,
     "metadata": {},
     "output_type": "execute_result"
    }
   ],
   "source": [
    "len(all_sentences)"
   ]
  },
  {
   "cell_type": "code",
   "execution_count": 9,
   "metadata": {},
   "outputs": [],
   "source": [
    "new_df = pd.DataFrame({\"sentence\": all_sentences})\n",
    "new_df.head()"
   ]
  },
  {
   "cell_type": "code",
   "execution_count": 11,
   "metadata": {},
   "outputs": [],
   "source": [
    "words = []\n",
    "\n",
    "for sentence in new_df['sentence']:\n",
    "    words_of_sent = word_tokenizer_object.tokenize(re.sub(r'[^\\w\\s]', '', sentence))\n",
    "    randomlist = random.sample(range(0, len(words_of_sent)), 3)\n",
    "    # the code below will be run for the case of sorted words input\n",
    "    #randomlist.sort()\n",
    "    \n",
    "    three_words = []\n",
    "    for i in randomlist:\n",
    "        three_words.append(words_of_sent[i])\n",
    "        \n",
    "    words.append(', '.join(three_words))"
   ]
  },
  {
   "cell_type": "code",
   "execution_count": 12,
   "metadata": {},
   "outputs": [],
   "source": [
    "new_df['words'] = words"
   ]
  },
  {
   "cell_type": "code",
   "execution_count": 14,
   "metadata": {},
   "outputs": [],
   "source": [
    "new_df = pd.DataFrame({\"words\": new_df['words'], \n",
    "          \"sentence\": new_df['sentence']})"
   ]
  },
  {
   "cell_type": "code",
   "execution_count": 16,
   "metadata": {},
   "outputs": [],
   "source": [
    "new_df.to_csv(\"word_sent.csv\", sep=\"\\t\", encoding=\"utf-8\")"
   ]
  },
  {
   "cell_type": "markdown",
   "metadata": {},
   "source": [
    "### %22"
   ]
  },
  {
   "cell_type": "code",
   "execution_count": null,
   "metadata": {},
   "outputs": [],
   "source": [
    "df = pd.read_csv(\"word_sent.csv\", sep=\"\\t\", encoding=\"utf-8\")\n",
    "rest, ws_22 = train_test_split(df, test_size=0.22, shuffle=True)\n",
    "ws_22.to_csv(\"ws_22.csv\", sep=\"\\t\", encoding=\"utf-8\")"
   ]
  },
  {
   "attachments": {},
   "cell_type": "markdown",
   "metadata": {},
   "source": [
    "### %44"
   ]
  },
  {
   "cell_type": "code",
   "execution_count": null,
   "metadata": {},
   "outputs": [],
   "source": [
    "df = pd.read_csv(\"word_sent.csv\", sep=\"\\t\", encoding=\"utf-8\")\n",
    "rest, ws_44 = train_test_split(df, test_size=0.44, shuffle=True)\n",
    "ws_44.to_csv(\"ws_44.csv\", sep=\"\\t\", encoding=\"utf-8\")"
   ]
  },
  {
   "attachments": {},
   "cell_type": "markdown",
   "metadata": {},
   "source": [
    "### %66"
   ]
  },
  {
   "cell_type": "code",
   "execution_count": null,
   "metadata": {},
   "outputs": [],
   "source": [
    "df = pd.read_csv(\"word_sent.csv\", sep=\"\\t\", encoding=\"utf-8\")\n",
    "rest, ws_66 = train_test_split(df, test_size=0.66, shuffle=True)\n",
    "ws_66.to_csv(\"ws_66.csv\", sep=\"\\t\", encoding=\"utf-8\")"
   ]
  },
  {
   "attachments": {},
   "cell_type": "markdown",
   "metadata": {},
   "source": [
    "### %88"
   ]
  },
  {
   "cell_type": "code",
   "execution_count": null,
   "metadata": {},
   "outputs": [],
   "source": [
    "df = pd.read_csv(\"word_sent.csv\", sep=\"\\t\", encoding=\"utf-8\")\n",
    "rest, ws_88 = train_test_split(df, test_size=0.88, shuffle=True)\n",
    "ws_88.to_csv(\"ws_88.csv\", sep=\"\\t\", encoding=\"utf-8\")"
   ]
  },
  {
   "cell_type": "code",
   "execution_count": 50,
   "metadata": {},
   "outputs": [
    {
     "name": "stdout",
     "output_type": "stream",
     "text": [
      "Olay, yerine, onları\n",
      "\n",
      "Olay yerine gelen polis ekipleri, çocuklara seslenerek onları sakinleştirmeye çalıştı.\n",
      "\n",
      "***********\n",
      "\n",
      "ekipleri, onlara, şeker\n",
      "\n",
      "Polis ekipleri, onlara şeker ikram etti.\n",
      "\n",
      "***********\n",
      "\n",
      "RasmussenSuriyedeki, muhakkak, endişe\n",
      "\n",
      "Suriye'deki gelişmeleri değerlendiren Rasmussen,''Suriye'deki durum muhakkak endişe kaynağı.\n",
      "\n",
      "***********\n",
      "\n",
      "derin, sivillere, kınıyoruz\n",
      "\n",
      "Suriye'de kan akmasından derin üzüntü duyuyor, sivillere baskıyı şiddetle kınıyoruz.\n",
      "\n",
      "***********\n",
      "\n",
      "Fakat, ana, herhangi\n",
      "\n",
      "Fakat şu ana dek herhangi bir talep almadık.\n",
      "\n",
      "***********\n",
      "\n",
      "takip, ve, ifadelerini\n",
      "\n",
      "Süreci yakından takip etmeyi ve gözetlemeyi sürdürüyoruz'' ifadelerini kullandı.\n",
      "\n",
      "***********\n",
      "\n",
      "İngilizce, hem, Türkçe\n",
      "\n",
      "Moore, bu paylaşımıhı hem İngilizce hem Türkçe yaptı.\n",
      "\n",
      "***********\n",
      "\n",
      "Clinton, sürecine, söyledi\n",
      "\n",
      "Clinton, müzakere sürecine bu aşamada başka ülkelerin katılmayacağını söyledi.\n",
      "\n",
      "***********\n",
      "\n",
      "yapımcılığını, Bulut, Film\n",
      "\n",
      "Gözetleme Kulesi’nin yapımcılığını Sinefilm, Evliya’nın yapımcılığını ise Bulut Film üstleniyor.\n",
      "\n",
      "***********\n",
      "\n",
      "sürücüsüne, 488, trafik\n",
      "\n",
      "Araç sürücüsüne 488 lira trafik cezası verildi.\n",
      "\n",
      "***********\n",
      "\n",
      "Braketler, daha, sık\n",
      "\n",
      "Braketler daha sık görülmeye başlandı.\n",
      "\n",
      "***********\n",
      "\n",
      "çeneler, uyum, yetişkinlerde\n",
      "\n",
      "Gürel, çeneler arasındaki uyum bozukluklarının yetişkinlerde cerrahi müdahalelerle düzeltilebileceğini belirtti.\n",
      "\n",
      "***********\n",
      "\n",
      "sonra, hayatımın, merkezine\n",
      "\n",
      "Doğurduktan sonra hayatımın merkezine diyeti değil sporu koydum.\n",
      "\n",
      "***********\n",
      "\n",
      "Haftada, spor, yapmaya\n",
      "\n",
      "Haftada dört gün bir saat spor yapmaya başladım.\n",
      "\n",
      "***********\n",
      "\n",
      "bir, dilime, ısınma\n",
      "\n",
      "Bu bir saatlik dilime 10 dakika ısınma hareketleri yaparak başlıyorum.\n",
      "\n",
      "***********\n",
      "\n",
      "Kardiyo, yaparken, canım\n",
      "\n",
      "Kardiyo yaparken canım çok sıkılıyordu.\n",
      "\n",
      "***********\n",
      "\n",
      "menümde, yumurta, beyazı\n",
      "\n",
      "Kahvaltı menümde yumurta beyazı da var.\n",
      "\n",
      "***********\n",
      "\n",
      "öğünlerde, ise, tüketiyorum\n",
      "\n",
      "Ara öğünlerde ise tahıllı barlar tüketiyorum.\n",
      "\n",
      "***********\n",
      "\n",
      "Vazgeçemediğim, yanında, kurabiyeler\n",
      "\n",
      "Vazgeçemediğim alışkanlığımsa kahvenin yanında yediğim kurabiyeler.\n",
      "\n",
      "***********\n",
      "\n",
      "keyfiminden, ödün, veremem\n",
      "\n",
      "Kahve keyfiminden asla ödün veremem.\n",
      "\n",
      "***********\n",
      "\n",
      "çok, spor, gösteriyorum\n",
      "\n",
      "Vücudumun fit kalması için yediklerimden çok spor yapmaya özen gösteriyorum.\n",
      "\n",
      "***********\n",
      "\n",
      "Sıfır, olmayı, kesinlikle\n",
      "\n",
      "Sıfır beden olmayı kesinlikle istemiyorum.”\n",
      "\n",
      "***********\n",
      "\n",
      "sayıda, polis, sevkedildi\n",
      "\n",
      "Fakülteye çok sayıda polis sevkedildi.\n",
      "\n",
      "***********\n",
      "\n",
      "Öğrenciler, uyarıyı, müdahale\n",
      "\n",
      "Öğrenciler uyarıyı dinlemeyince müdahale başladı.\n",
      "\n",
      "***********\n",
      "\n",
      "yapılan, de, karşılık\n",
      "\n",
      "Kalkanlarla yapılan müdahaleye öğrenciler de karşılık verdi.\n",
      "\n",
      "***********\n",
      "\n",
      "Çıkan, yatırılarak, alındı\n",
      "\n",
      "Çıkan olaylarda bazı öğrenciler yere yatırılarak gözaltına alındı.\n",
      "\n",
      "***********\n",
      "\n",
      "Turgut, öldüğü, detaylarıyla\n",
      "\n",
      "Semra Özal, Turgut Özal'ın öldüğü gün yaşananları da detaylarıyla anlattı.\n",
      "\n",
      "***********\n",
      "\n",
      "otopsi, diye, dedi\n",
      "\n",
      "\"Kimse otopsi yapalım mı? diye sormadı\" dedi.\n",
      "\n",
      "***********\n",
      "\n",
      "830, kahvaltı, hazırlamıştım\n",
      "\n",
      "\"Sabah 8.30 gibi kalktı, ben kahvaltı hazırlamıştım.\n",
      "\n",
      "***********\n",
      "\n",
      "geçerken, spor, yapmayacağım\n",
      "\n",
      "Oradan geçerken \"bugün spor yapmayacağım.\n",
      "\n",
      "***********\n",
      "\n",
      "Zaten, duş, aldım\n",
      "\n",
      "Zaten duş aldım terlemeyeyim\" dedi.\n",
      "\n",
      "***********\n",
      "\n",
      "bir, dönüp, baktığımda\n",
      "\n",
      "Bir anda bir ses duydum dönüp baktığımda eşim yüzükoyun yatıyordu.\n",
      "\n",
      "***********\n",
      "\n",
      "ağzından, beyaz, bir\n",
      "\n",
      "Yüzünü çevirdiğimde ağzından beyaz bir şey akıyordu.\n",
      "\n",
      "***********\n",
      "\n",
      "aküsü, yok, dediler\n",
      "\n",
      "Köşk’ün ambulansını sordum ‘aküsü yok’ dediler.\n",
      "\n",
      "***********\n",
      "\n",
      "Telsiz, eşimi, götürdüklerini\n",
      "\n",
      "Telsiz konuşmalarında eşimi GATA'ya götürdüklerini söylediler, sonra Hacettepe dediler.\n",
      "\n",
      "***********\n",
      "\n",
      "kimse, yapalım, diye\n",
      "\n",
      "Eşimin ölümünden sonra kimse 'otopsi yapalım mı?' diye sormadı.\"\n",
      "\n",
      "***********\n",
      "\n",
      "sonra, kan, akıyordu\n",
      "\n",
      "\"Vurulduktan sonra korkunç bir kan akıyordu.\n",
      "\n",
      "***********\n",
      "\n",
      "Bana, Korkma, dedi\n",
      "\n",
      "Bana \"Korkma yara elimde\" dedi.\n",
      "\n",
      "***********\n",
      "\n",
      "Demirağı, bir, odaya\n",
      "\n",
      "Demirağ'ı yakalayarak bir odaya aldılar.\n",
      "\n",
      "***********\n",
      "\n",
      "Emniyet, Mehmet, Ağardı\n",
      "\n",
      "Dönemin Emniyet Müdürü Mehmet Ağar'dı.\n",
      "\n",
      "***********\n",
      "\n",
      "Taner, orada, ilaç\n",
      "\n",
      "Güneş Taner, orada \"Ben Amerikan sefaletinden bir ilaç aldım.\n",
      "\n",
      "***********\n",
      "\n",
      "Ancak, konuşturacağız, dedi\n",
      "\n",
      "Ancak Mehmet Ağar, kabul etmedi, \"Biz konuşturacağız\" dedi.\n",
      "\n",
      "***********\n",
      "\n",
      "sonra, Demirağın, konuşmadığını\n",
      "\n",
      "Bir gün sonra Demirağ'ın konuşmadığını söylediler.\"\n",
      "\n",
      "***********\n",
      "\n",
      "Dnin, arkadaşları, polise\n",
      "\n",
      "Kapının kilitli olduğunu görün Mehmet D.'nin arkadaşları durumu polise bildirdi.\n",
      "\n",
      "***********\n",
      "\n",
      "incemede, Mehmet, Dnin\n",
      "\n",
      "Yapılan incemede Mehmet D.'nin bıçaklanarak öldürüldüğü belirlendi.\n",
      "\n",
      "***********\n",
      "\n",
      "Mehmet, da, görüldü\n",
      "\n",
      "Mehmet D.'nin boynunda morluklar olduğu da görüldü.\n",
      "\n",
      "***********\n",
      "\n",
      "telefonu, kayıtları, alındı\n",
      "\n",
      "Ayrıca Mehmet D.'nin cep telefonu kayıtları da inceleme altına alındı.\n",
      "\n",
      "***********\n",
      "\n",
      "üzerine, evine, gitti\n",
      "\n",
      "Bunun üzerine harekete geçen ekipler Volkan A.'nın evine gitti.\n",
      "\n",
      "***********\n",
      "\n",
      "Şüphelinin, kontrolünden, ardından\n",
      "\n",
      "Şüphelinin sağlık kontrolünden geçirilmesinin ardından Cinayet Büro Amirliğine getirileceği öğrenildi.\n",
      "\n",
      "***********\n",
      "\n",
      "Cinayetin, şüphelinin, ardından\n",
      "\n",
      "Cinayetin nedeni ise şüphelinin yapılacak sorgusunun ardından belirlenecek.\n",
      "\n",
      "***********\n",
      "\n"
     ]
    }
   ],
   "source": [
    "for i in range(50):\n",
    "    print(df['words'][i] + \"\\n\\n\" + df['sentence'][i] + \"\\n\\n***********\\n\")"
   ]
  },
  {
   "cell_type": "code",
   "execution_count": null,
   "metadata": {},
   "outputs": [],
   "source": []
  }
 ],
 "metadata": {
  "kernelspec": {
   "display_name": "Python 3",
   "language": "python",
   "name": "python3"
  },
  "language_info": {
   "codemirror_mode": {
    "name": "ipython",
    "version": 3
   },
   "file_extension": ".py",
   "mimetype": "text/x-python",
   "name": "python",
   "nbconvert_exporter": "python",
   "pygments_lexer": "ipython3",
   "version": "3.8.5"
  }
 },
 "nbformat": 4,
 "nbformat_minor": 4
}
